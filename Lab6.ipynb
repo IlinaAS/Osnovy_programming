{
  "nbformat": 4,
  "nbformat_minor": 0,
  "metadata": {
    "colab": {
      "provenance": [],
      "authorship_tag": "ABX9TyOx6mGePJyvWQR/JHRuEhDw",
      "include_colab_link": true
    },
    "kernelspec": {
      "name": "python3",
      "display_name": "Python 3"
    },
    "language_info": {
      "name": "python"
    }
  },
  "cells": [
    {
      "cell_type": "markdown",
      "metadata": {
        "id": "view-in-github",
        "colab_type": "text"
      },
      "source": [
        "<a href=\"https://colab.research.google.com/github/IlinaAS/Osnovy_programming/blob/main/Lab6.ipynb\" target=\"_parent\"><img src=\"https://colab.research.google.com/assets/colab-badge.svg\" alt=\"Open In Colab\"/></a>"
      ]
    },
    {
      "cell_type": "markdown",
      "source": [
        "# Программирование на языке высокого уровня (Python).\n",
        "# https://www.yuripetrov.ru/edu/python\n",
        "# Задание task_06_02_01.\n",
        "#\n",
        "# Выполнила: Ильина А.С.\n",
        "# Группа: АДЭУ-221\n",
        "# E-mail: alishass.ilyina@yandex.ru\n"
      ],
      "metadata": {
        "id": "NHrtwhOncTBe"
      }
    },
    {
      "cell_type": "markdown",
      "source": [
        "# 6.2.1. Оценка сложности алгоритмов\n",
        "Для задач 6.2.1-6.2.7 ответьте на следующие вопросы:\n",
        "\n",
        "Что выполняет приведенная функция?\n",
        "\n",
        "Какова вычислительная сложность алгоритма (наихудшая оценка, O-нотацию)?\n",
        "\n",
        "Ответы необходимо указать в строке документации с пометкой «Алгоритм» и «Сложность» соответственно. Сложность - один из вариантов:\n",
        "\n",
        "O(1), O(N), O(log(N)), O(N log(N)) или O(N^2).\n",
        "считая, что N - размер входных данных.\n",
        "\n",
        "№№ 6.2.1 - 6.2.7\n",
        "\n",
        "См. заготовки."
      ],
      "metadata": {
        "id": "2MOHhrjccfQC"
      }
    },
    {
      "cell_type": "code",
      "execution_count": null,
      "metadata": {
        "colab": {
          "base_uri": "https://localhost:8080/"
        },
        "id": "UD98baYbb2Z9",
        "outputId": "c445c225-caf1-4b90-b845-790aa095f450"
      },
      "outputs": [
        {
          "output_type": "execute_result",
          "data": {
            "text/plain": [
              "[-2, -2, -2, 1, 1, 2, 2, 2, 2, 2, 3, 3, 3, 4, 4, 5, 65]"
            ]
          },
          "metadata": {},
          "execution_count": 1
        }
      ],
      "source": [
        "def foo(a):\n",
        "# N=len(a)\n",
        "    for i in range(len(a), 0, -1): # O(N)+O(1)\n",
        "        for j in range(1, i):      #O(N)\n",
        "            if a[j-1] > a[j]:      # O(1)+O(1)\n",
        "                a[j-1], a[j] = a[j], a[j-1]  # O(1)+O(1)\n",
        "    return a # O(1)\n",
        "# Ощая сложность равна (O(N)+O(1))*O(N)+O(N)+O(1)+O(1)+O(1)+O(1)=O(N^2)+O(1)*O(N)+4*O(1)+O(1)+O(N)=O(N^2)+O(1)+O(1)+O(1)=O(N^2)+3*O(1)+O(1)=O(N^2)+O(1)+O(1)=O(N^2)\n",
        "\n",
        "a = [1, 2, 3, 4, 2, 1, 3, 4, 3, 5, -2, -2, 2, -2, 65, 2, 2]\n",
        "foo(a)\n"
      ]
    },
    {
      "cell_type": "markdown",
      "source": [
        "6.2.2"
      ],
      "metadata": {
        "id": "FpIFz-q1AHnB"
      }
    },
    {
      "cell_type": "code",
      "source": [
        "# N=len(i)\n",
        "def foo(i):\n",
        "\n",
        "    \"\"\"!!!\n",
        "    Функция преобразует integer (целое число) в string (строка).\n",
        "\n",
        "    N = 1\n",
        "    Параметры:\n",
        "        - i (int): число.\n",
        "\n",
        "    Сложность: !!!.\n",
        "    \"\"\"\n",
        "    \n",
        "    digits = \"0123456789\" # O(1)\n",
        "    if i == 0:          # O(1)+O(1)\n",
        "        return \"0\"      # O(1) - в худшем случае не выполнится\n",
        "    result = \"\"         # O(1)\n",
        "    while i > 0:        # O(N)+O(1)\n",
        "        result = digits[i%10] + result  # O(1)+O(1)+O(1)\n",
        "        i = i // 10      # O(1)+O(1)\n",
        "    return result       # O(1)\n",
        "\n",
        "# Общая сложность равна O(1)+O(1)+O(1)+O(1)+O(1)+O(N)+O(1)+O(1)+O(1)+O(1)+O(1)+O(1)+O(1)=12*O(1)+O(N)=O(1)+O(N)=O(N)"
      ],
      "metadata": {
        "id": "BPVFA8ZPAF6M",
        "colab": {
          "base_uri": "https://localhost:8080/",
          "height": 53
        },
        "outputId": "b7702f75-cded-45f0-c4ef-5182ab847e43"
      },
      "execution_count": null,
      "outputs": [
        {
          "name": "stdout",
          "output_type": "stream",
          "text": [
            "i = 12\n"
          ]
        },
        {
          "output_type": "execute_result",
          "data": {
            "text/plain": [
              "'12'"
            ],
            "application/vnd.google.colaboratory.intrinsic+json": {
              "type": "string"
            }
          },
          "metadata": {},
          "execution_count": 38
        }
      ]
    },
    {
      "cell_type": "markdown",
      "source": [
        "6.2.3"
      ],
      "metadata": {
        "id": "AaZq2AYdI1gU"
      }
    },
    {
      "cell_type": "code",
      "source": [
        "\n",
        "def foo(s):\n",
        "\n",
        "    \"\"\"!!!\n",
        "    Вводная переменная - строка.\n",
        "    Функция вытаскивает все цифры из строки и преобразует их в целое число\n",
        "\n",
        "    N = len(s)\n",
        "    Параметры:\n",
        "        - s (str): строка.\n",
        "\n",
        "    Сложность: !!!.\n",
        "    \"\"\"\n",
        "    val = 0 # O(1)\n",
        "    for c in s: # O(N)\n",
        "        if c.isdigit(): # O(N)\n",
        "            val += int(c) # O(1)+O(1)\n",
        "    return val # O(1)\n",
        "\n",
        "\n",
        "# Общая сложность равна O(1)+O(N)*O(N)+O(1)+O(1)=3*O(1)+O(N^2)=O(1)+O(N^2)=O(N^2)"
      ],
      "metadata": {
        "id": "k8ZZDaNQI1zW"
      },
      "execution_count": null,
      "outputs": []
    },
    {
      "cell_type": "markdown",
      "source": [
        "6.2.4"
      ],
      "metadata": {
        "id": "e5DPjeyOQ6M7"
      }
    },
    {
      "cell_type": "code",
      "source": [
        "# N=len(divisiors)\n",
        "def foo(n):\n",
        "    \"\"\"!!!\n",
        "\n",
        "    Параметры:\n",
        "        - n (int): число.\n",
        "    Функция находит все простые числа от 0 до указанного числа.\n",
        "\n",
        "    N = 1\n",
        "    Сложность: !!!.\n",
        "    \"\"\"\n",
        "    res = [] # O(1)\n",
        "    for i in range(1, n + 1): # O(N)+O(1)\n",
        "        divisors = 0 # O(1)\n",
        "        j = 2 # O(1)\n",
        "        while j < i and divisors == 0: # O(N)+O(1)+O(1)\n",
        "            if i % j == 0: # O(1)+O(1)\n",
        "                divisors += 1 # O(1)\n",
        "            j += 1 # O(1)\n",
        "\n",
        "        if divisors == 0: # O(1)+O(1)\n",
        "            res.append(i) # O(1)\n",
        "\n",
        "    return res # O(1)\n",
        "n = int(input('n = '))\n",
        "foo(n)\n",
        "# Общая сложность равна O(1)+O(N)*(O(1)+O(1)+O(1)+O(N)*O(1)+O(1)+O(1)+O(1)+O(1)+O(1))+O(1)+O(1)+O(1)+O(1)=O(1)+O(N)*(2*O(1)+O(N)*2*O(1))=O(N^2)"
      ],
      "metadata": {
        "id": "lZEpbDaIQ7zO",
        "colab": {
          "base_uri": "https://localhost:8080/"
        },
        "outputId": "7f8ef3cd-5ec0-4f4c-dac3-dd87a395e1da"
      },
      "execution_count": null,
      "outputs": [
        {
          "name": "stdout",
          "output_type": "stream",
          "text": [
            "n = 1\n"
          ]
        },
        {
          "output_type": "execute_result",
          "data": {
            "text/plain": [
              "[1]"
            ]
          },
          "metadata": {},
          "execution_count": 36
        }
      ]
    },
    {
      "cell_type": "markdown",
      "source": [
        "6.2.5"
      ],
      "metadata": {
        "id": "He7XLRdNRGpp"
      }
    },
    {
      "cell_type": "code",
      "source": [
        "\n",
        "def foo(nums):\n",
        "    \"\"\"!!!\n",
        "\n",
        "    Параметры:\n",
        "        - nums (list): список.\n",
        "    Проверяет список на наличие четных цифр внутри него.\n",
        "  \n",
        "    N = len(nums)\n",
        "    Сложность: !!!.\n",
        "    \"\"\"\n",
        "    for x in nums: #O(N)\n",
        "        if x % 2 == 0: #O(1)+O(1)\n",
        "            return True #O(1)\n",
        "    else: \n",
        "        return False #O(1)\n",
        "nums = [1, 2, 3, 100, 135]\n",
        "foo(nums)\n",
        "# Общая сложность равна O(N)+O(1)+O(1)+O(1)+O(1)=O(N)+4*O(1)=O(N)"
      ],
      "metadata": {
        "id": "AA-VYnWvRH8C",
        "colab": {
          "base_uri": "https://localhost:8080/"
        },
        "outputId": "816d4813-aabc-4124-8c0b-05042819832a"
      },
      "execution_count": null,
      "outputs": [
        {
          "output_type": "execute_result",
          "data": {
            "text/plain": [
              "True"
            ]
          },
          "metadata": {},
          "execution_count": 32
        }
      ]
    },
    {
      "cell_type": "markdown",
      "source": [
        "6.2.6"
      ],
      "metadata": {
        "id": "HdhxUEy3RPjR"
      }
    },
    {
      "cell_type": "code",
      "source": [
        "\n",
        "def foo(nums):\n",
        "    \"\"\"!!!\n",
        "\n",
        "    Параметры:\n",
        "        - nums (list): список.\n",
        "    Выводит сумму первого элемента списка и последнего, возведенного в 2-ю степень.\n",
        "\n",
        "    N = len(nums)\n",
        "    Сложность: !!!.\n",
        "    \"\"\"\n",
        "    return ((nums[0] + nums[-1]) ** 2)        # O(1)+O(1)\n",
        "nums = [1, 2, 3, 4, 555, 679]\n",
        "foo(nums)\n",
        "# Общая сложность равна O(1)+O(1)=2*O(1)=O(1)"
      ],
      "metadata": {
        "id": "1bsTW3ikRbMu",
        "colab": {
          "base_uri": "https://localhost:8080/"
        },
        "outputId": "3e071dfb-7239-4017-b2ef-f6513f910fbf"
      },
      "execution_count": 2,
      "outputs": [
        {
          "output_type": "execute_result",
          "data": {
            "text/plain": [
              "462400"
            ]
          },
          "metadata": {},
          "execution_count": 2
        }
      ]
    },
    {
      "cell_type": "markdown",
      "source": [
        "6.2.7"
      ],
      "metadata": {
        "id": "_SIHFlmER3pB"
      }
    },
    {
      "cell_type": "code",
      "source": [
        "def foo(low, high):\n",
        "    \"\"\"!!!\n",
        "\n",
        "    Параметры:\n",
        "        - low (int): нижняя граница;\n",
        "        - high (int): верхняя граница.\n",
        "    Вводный переменные - целые числа.\n",
        "    Угадывает загаданное число пользователя.\n",
        "\n",
        "    N = 2\n",
        "    Сложность: !!!.\n",
        "    \"\"\"\n",
        "    guessing = True # O(1)\n",
        "    while guessing: # O(N)\n",
        "        guess = (low + high) // 2  # O(1)+O(1)\n",
        "        print(\"Загаданное число {0}?\".format(guess))  # O(1)\n",
        "        pointer = input(\n",
        "            \"Введите '+', если Ваше число меньше.\\n\"\n",
        "            \"Введите '-' если Ваше число больше.\\n\"\n",
        "            \"Введите '=', если я угадал.\\n\").lower()  # O(1)\n",
        "        if pointer == \"+\":  # O(len(pointer) + O(1) = O(1) + O(1) \n",
        "            high = guess  # O(1)\n",
        "        elif pointer == \"-\":  # O(len(pointer) + O(1) = O(1) + O(1)\n",
        "            low = guess # O(1)\n",
        "        elif pointer == \"=\": # O(len(pointer) + O(1) = O(1) + O(1)\n",
        "            guessing = False  # O(1)\n",
        "        else:\n",
        "            print(\"Введите '+', '-' или '='.\")  # O(1)\n",
        "\n",
        "    return guess  # O(1)\n",
        "\n",
        "# Общая сложность: O(1)+O(N)*(O(1)+O(1)+O(1)+3*O(1)*O(1))=O(1)+O(N)*6*O(1)=O(N)\n",
        "\n",
        "low, high = 0, 100\n",
        "print(\"Пожалуйста, загадайте число от {0} до {1}!\".format(low, high))\n",
        "guess = foo(low, high)\n",
        "print(\"Игра окончена, Вы загадали число: {0}.\".format(guess))\n"
      ],
      "metadata": {
        "id": "gB9YA7XdR4HV",
        "colab": {
          "base_uri": "https://localhost:8080/"
        },
        "outputId": "40032064-a36d-4935-9dcf-a74e68872f3b"
      },
      "execution_count": null,
      "outputs": [
        {
          "output_type": "stream",
          "name": "stdout",
          "text": [
            "Пожалуйста, загадайте число от 0 до 100!\n",
            "Загаданное число 50?\n",
            "Введите '+', если Ваше число меньше.\n",
            "Введите '-' если Ваше число больше.\n",
            "Введите '=', если я угадал.\n",
            "30\n",
            "Введите '+', '-' или '='.\n",
            "Загаданное число 50?\n",
            "Введите '+', если Ваше число меньше.\n",
            "Введите '-' если Ваше число больше.\n",
            "Введите '=', если я угадал.\n",
            "+\n",
            "Загаданное число 25?\n",
            "Введите '+', если Ваше число меньше.\n",
            "Введите '-' если Ваше число больше.\n",
            "Введите '=', если я угадал.\n",
            "-\n",
            "Загаданное число 37?\n",
            "Введите '+', если Ваше число меньше.\n",
            "Введите '-' если Ваше число больше.\n",
            "Введите '=', если я угадал.\n",
            "+\n",
            "Загаданное число 31?\n",
            "Введите '+', если Ваше число меньше.\n",
            "Введите '-' если Ваше число больше.\n",
            "Введите '=', если я угадал.\n",
            "+\n",
            "Загаданное число 28?\n",
            "Введите '+', если Ваше число меньше.\n",
            "Введите '-' если Ваше число больше.\n",
            "Введите '=', если я угадал.\n",
            "-\n",
            "Загаданное число 29?\n",
            "Введите '+', если Ваше число меньше.\n",
            "Введите '-' если Ваше число больше.\n",
            "Введите '=', если я угадал.\n",
            "-\n",
            "Загаданное число 30?\n",
            "Введите '+', если Ваше число меньше.\n",
            "Введите '-' если Ваше число больше.\n",
            "Введите '=', если я угадал.\n",
            "=\n",
            "Игра окончена, Вы загадали число: 30.\n"
          ]
        }
      ]
    }
  ]
}