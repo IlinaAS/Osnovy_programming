{
  "nbformat": 4,
  "nbformat_minor": 0,
  "metadata": {
    "colab": {
      "provenance": [],
      "authorship_tag": "ABX9TyMB5cAE0w4Heh5GFS42Y/dS",
      "include_colab_link": true
    },
    "kernelspec": {
      "name": "python3",
      "display_name": "Python 3"
    },
    "language_info": {
      "name": "python"
    }
  },
  "cells": [
    {
      "cell_type": "markdown",
      "metadata": {
        "id": "view-in-github",
        "colab_type": "text"
      },
      "source": [
        "<a href=\"https://colab.research.google.com/github/IlinaAS/Osnovy_programming/blob/main/Lab5.ipynb\" target=\"_parent\"><img src=\"https://colab.research.google.com/assets/colab-badge.svg\" alt=\"Open In Colab\"/></a>"
      ]
    },
    {
      "cell_type": "markdown",
      "source": [
        "# Программирование на языке высокого уровня (Python).\n",
        "# https://www.yuripetrov.ru/edu/python\n",
        "\n",
        "# Выполнила: Ильина А.С.\n",
        "# Группа: АДЭУ-221\n",
        "# E-mail: alishass.ilyina@yandex.ru\n",
        "\n"
      ],
      "metadata": {
        "id": "Hc1tw9lVNKoC"
      }
    },
    {
      "cell_type": "markdown",
      "source": [
        "# 5.2.1. Глобальные и локальные функции\n",
        "# № 5.2.1\n",
        "\n",
        "Определите значение ![image.png](data:image/png;base64,iVBORw0KGgoAAAANSUhEUgAAANQAAAB8CAYAAAARkZ6bAAAYR0lEQVR4nO2dcXBT153vP/t4784wVdZFNF0lPATdGDLIMGs9Xq3wKietDNuRd6jcIXKm2J1Gbjd29mGVXZvmIZpFeXk4j8aeJlaa2NDYyUQiE1SmVtxBycZWJrVaar9h5TfE4gWULSiTcLtZlPVyWye30ez74wojGwuwfUG2cz5/2df3nnskn+89v9/vnPv7/cmnn3767wgEAl34D8XugECwlBCCEgh0RAhKINARISiBQEeEoAQCHRGCEgh0RAhKINARISiBQEeEoAQCHRGCEgh0RAhKINARISiBQEeEoAQCHRGCEgh0RAhKINARISiBQEeEoAQCHRGCEgh0RAhKINARISiBQEeEoAQCHRGCEgh0RAhKINARISiBQEeEoAQCHRGCEgh0RAhKINARISiBQEeEoAQCHRGCEgh0RAhKsGhJv9ZG03dqqd5aTc3uboY/LHaPhKAEi5TMG/toem0dvp6jHH+xEfOZMPu+tYdoprj9EoISLEKShLvGcD7oxrwMWOWi9UEzkKD7SKKoPROCWkxMKCjqAmij2Hx4lrFxhYivjfiEdsi8yYYBUH41SqqIXROCWiRk3mqjtqGXs/MVQ2YQ3w4voTOKLv0qCgYz624HSm7jc9ncsRUmzAAfZriYLXzpzeY/Fu/WghtFORmg6fEUrp/2YDXMs7FVLtpax6jd7cNwuBPXKl26eGtZbqX55QGa8w6pqTFSgFRhZd2yYnVMzFALH2WY7rYI1LZSt1afJg33NdFaniKwP0S6iE9z3cjKRF6JoUoWPA87MBaxK0JQC5zkkQ6iEw68Oy06tmrE8VAd5nMhumM6hMWyKmrR/DKFxDNeuv/FTkt3J+7VxeqHhhDUQmY8xtG+DNJ991IxX1NvOmsrca5VGe4Jk5znLCX3t1L9gwjFiFinj/nY91sXXV1+nKtBHS9uxEUIagGTORElroL9ngok3Vs3Y/uqCT6MMnRah+aycKuHstznxXfKSVdHHaUlwHiMx7whUiIoIbgahdFfJgAb95TrLycA8+ZKDC+Eif46SeNGPU3Km4/8hh/vCwqWe1NEngtoB3+XYPhL9ewtYlBCCGo68jC9P+llMH05rGxgzdc8tHzbhnH6P2o8RfRIL+E3z6ICqtlJy3fXkPr1J9gecFK6XCZ20EdnXEY1lOH++/14VstEn+8m9H8voGYyqH9mx/MDL6710226s4yNAiVmTCWFu6u8FyP0dA9DsoqqGinf2Yr3KxcJHehg8APgT8tpesyHY6Zo3p3rKAOGk2fJYCmqM58Z6cbfHiU1AaYtXtoecWCa/L4Vki8/QW+yHI/PjUWJ0HYwTgaIH09Paceww4Te1vFsEILK51yYpr/pRq3tIvh4KSATfaSBjuA+QpsGaN585VTlTAjf7l5S6z10Hj5AaYlC4ukG9jRnAInMZifuc22008DRwxdo/U43of1NDGLA1uon+HcmyETZU9tBYPdtmPubseYLVk5ra053mQoOdOVkgAZ/mrpngwRXQ/poAw3PeIkfMuD0d9E+3onvxzHafnIPFW2OqwdayQpMAGfSnIeiCUodDdB0UKWlpw/pha3s6W8j8OUKDmzL9VgepOv5YZKSiZ0ScLuLzgFXkXp7bYQPlUfyH0KkVDCbTdqBifMkkyqSyY093yKSI/h295LERuvf5+x3DFhdLm2AYsd6d5rBn6dwft2O4Y8qCsC4is3XTvOWXPvG3GKkepb09I2dH8mkAUrNuTankU0Sah/E9uh+XLnIlnHFHYCKelcd7gqZaGccWQXD6kJP7TswbwBUmY/GZ/dd6UeGwZcjrPlrD7aSNKlTAAbMd1zpsXJqhCRAeVlR15huBDFD5fFJLvYbb6ul9rgdp70Kd3CAlikml0K8p5ukCtL2+3HkPdbV8+eRATaUUape5MKXm3GWg9w/rB13eGncnDe0308xBoCJldPNuj/kRFiID2T4ihd3XvjvbFLbx2ayWTFhpu7ZJym/uJKyTebrfPJLXJoArmFa3jSU8yirG9m5xQinw4TOASVOKjdePkFl9P8MA2CpsBTVnLsRhKDysH6zEcvxAElVJTMaIzQaI3TIRF1HEM+G3EnyIEdjmvCqtlinXD82GgfAsGkdphIL7l0ACrGRJACWTZYp0brMqRFt39lmK5bls+zsageNu/IPJBn5pQoYqNysCciw2opNp3WZ5HPVeI9dK46XpH5rYOY/LXfT2d/IjGEPgxX3Lu17TB6JogDmB5xXzs2OkYgDGCi7e8a5ekEhBJXPKhedL1tJnEww+ptBIvEkiioTeimGO+eDqO+MaeYHNqx351+cJvmPKiBRtTlv6GRzwQVM2DbleykZht/UZhTr12zz91/ks4yNA1RQptOOinwsDx9n4OECt+7zUj9YRTDgmtk8vSGSDA0ogImqirwZ9cwIgyogVVGxfs6N3zKEDwUwkSS0u4bqHfuITpixOlx4fJ30/citmRh/uDS5xpL5SNZ+WGXJ+U455ATD7wNYKSvNO355QJRUYs0f6PIQ0ZMANpxbjCDH6T0UYzJmtcqsPaV/91FB008+PUzinPbXST+j4h7KJ2e7DMMvB4idK/TBM8gfAKzDXOyH/7kEQ+Nc9T3JyYT2+e1Wyha4/wRCUABkBrrofVtBHb+A8ser/2756pUZxLR6nWa2/alhivkm/2pQG9AbKrDkCS19ckgbEFvKp5g86V9GtPMdTuwlkPx5O+GJFUw+m0tWak/7S5dmFFT6aAP1zfvY871O4qrCyJuan1G6Oc/POBel+6WLsKLQJ/8EdRxYZWRloVNuFRczmp95Z35UM0NiRHsZY7q5vFARggIMK0xIGLD72q/sBRtPEfppBHVjM77teY/v8ipctwPvjpFSgKxK+jU/3uc0Q9CwaV2e2aOQSmozmu0vyqbcU/lXbaOOxVKK9F6Yrn4zjQ/k+WTLS1l3F3A6xfkZVv4v/rMMSJTW11B6qpeuUQkJUC7l5CfHaNsbYuWuJhyFgg2XgyJ3r5mHqaYTXyrDJpH3vSokDvkInISrzeWFi/ChAMnuo+fxbjq6mqjtkpAkFZU12O4/QM92a94CI7DMQmPXkxjaA7R/q4bOEgNr/osFE5CZ7j8hc/63IJlc3L9lanzKsrONuqSP8PMN1L5qp+6pNlxTRrWJss0GeDdB6j2wTfOLrN9sxfGP7cSP+2kasOB5Koj1n7rw/8RLzYABSVqH82+D+CoKD0Q1dZYUYPtyefGf/kYHe5+6ROdTIdq+VYuxRML4udx2punm8gLmTz799NN/L3YnFj3vh2n6TjcpHPj7fdhnG7ErxNvd1OwOY94VpLNG/zkk8XQ1e/qt+I4dKDyL3QC6BCWyKioSUt7DK/lcDd5jCoYdnfQ9vDi2RgmTb5ao41e/Qq4kc69dbyijVC8xAWx0UrcWkr8YIn39s2fHRJzo6yqG7fdjn+f6k7QMWMacZzl1tJv67dVUb7/ySjsTcfr6FcCM27k4xARCULMifayJmh011DSHkSePygy+OgxI2L5RqbMvYsb5kBPDuRCRk/ru5ZZfP0pMteB5wDpvc89Y3c7xH7nmHPofi0eQp3289LEeYioYtzfjWiTmHghBzYIMiaEUKiD9+R3a4MkqDD/TSvdpCVPNAfZu099xNlQ0sn+7ROS5sH5v1ypxeg6lsOzyTfPb5sgyCWkeqlz5eSNQSt1TXuzLIf2an9YX0kibm+ncZV3wuyPyET7ULFDOROk+FCIhA8tAnVAx3l2Fa6cb54abGIVSUoR+6CXypQP0fH+eAywrE2lpIKRHW3qRTRM92EbvaAYJUL+wDuf9jbjvM2NYBGtP+QhBLRaUFOGDbWRqumjcPPfpQD6+D///c9L2ffvVr6MI5s2NCSqbJvZ0gK43EyjLrVQ1NdPiMGuvD7RL+F9sxFL0uKtAUHxuQFAykd0NBN4G4yoDyvsZzY8wmpAUlaq2IM036Y1SgWCxcf2F3XeHGFRdHDjWiC0XXlVOBmh4ZIjKtp7ri+ntbqp3h+eYb6CU5he7FmfuOMFnkln7UMpIgAbfEOWPduG7b+FsB9m6dWuxuyBYQgwMDMzpulkJSn7Dj/fHMlU/aqdx44KIDwkEC4ob3suXPual6WdGWg93zZzwQyAQ3IigFFJBH96hMtoPN2KZnJhUkv3djK324C6/xmwlfCjBZ4jrmnxyn5eGF8DzRBvOuwwYcjEIOdaGty2Fu7en6OlvBYKbTlYhfSqNtMky9e2DaVxzhlJOBvAeymDdXkX6qVpq3lVz4XIZRZWw7BJiEtxkMgmeOujjFydnePPzOnz+P8G/zvqyma2i9DEvDYfSSNv89D1iL7j/sbCgJuJ0PjpE5eM9NG82QLYKy0E/gZgMa23UPdSC5xrv2giuQ1ZFUcBQMoc1vPlcu6hQiR/ex6/v6mDgYG7HeVZFUSUMeu3qv8H2TOutGEmTuXARhcI5DMXWo2KQ25s3/NWeOb7npCXVfOJjL12tS3gLkRzBWx/HefRJnLkRrE9CmLxbzKK9zGt7aP23ZnpqC6dlE7vNbzVZmcgPvYS+6KNtzi8NGrDuasd11k/TM4lr5+9bxCR/3kt6h2dSTEVFSRB61Uxz9bVzHApB3WLkvjYCZ6y0Ntnnt9N7mZm6Fjf076PzrSUoqUyU3mNmPN9cGC8Xqqk0Zfuar1tBUgjqVpKJEXg+iXln45SMs3NmQx1eB8S6QvOu8bTQSL7Szdi2WpxFzx6jIZW7bmj9VQjqFpJ6tYth1YzzvuulRr5RDFTca0f6MEJIj0qEC4VMjFC/Ec/OwtG0hYoQ1K0im2SwPwOrqnRLjwwgbb4XOyrDA8NFqSB4M0gfD5KwN+BchEsyQlC3ijNDRMfB8BUres1PACwv554K4GSc0aJV0NCRiTjBIwqub87TxywSSzsv33hqsrjZZe74izoaH3JSOsN/Sz4RoudYhNG0BEiUNzTj/HiU5J0u6iqMKG/34vufYVKKhMmuFQVjpJfAS4Oc/zeFzLhEWXULex+6ujhbJjWGAti+VEBO2QzDh/x0DKRQMGFvasO3Lc+BUJKEDvaS3ORhf21+FlUDprUGGEkw9ltwlM/961oIpPt7iG3ycHTD9c+dTmY0TNczEZIfa3kVq7x7qfv8EJ3/O8SoApid+P2evO1z+rN0ZyglTlt9E4GPnXT1BAm+2EPLPTB2vIPOAXnqudkM8YO11D8agepOjh4NcvTHLuTOPex5JkTvkSEyEwl69w9h+9Fx9jsU0rE2vN+pp/V1I54nggSDfbRXqySO7cPfL1/VnfP/pGWWNRln+m+qJJ5r4onf19Fz9ADO8TSxgwFieTOOPNBF74kEiQufXOVXGL9oBlTOvrfIjb6JBJFXMri/7Zx1BiW5z0t9u0xVR5BgMIh30xhhXz21LYOse6wLf7URZTSE70jypnT9MktWUMqJKLEJMN55OdGHTGo0g7rcivOe/NCRNpj9b2Qw1vrxOXJ/W+Wk1q79aPqvVgwjUSJ3uqhaq/LH3E5f5Qtu2h91TRYNMN6hzT7J8xeYisJHvwOwYJ4pUpQZ5EjfGhobbBg+SJEArRSo4cr1yVxJHKtl3VWXm1Zrx9IXrhbyYkJ+vZfIijqcG69/7hQyMQKHwHOwOfcSrIRxhQSosNWD+3PD9Aa1jFXrbnJVhCVr8qkfXwJADnqpiVuprLLjfOw4A9O/z3NhAn0ZwELdN6alUX4HQMK2wYycuQ3PtysxZccIxwFM1O12TdkoeT6Vm4VWTk+9r3DpUuG+KmkF80M7qTRC8mch0oDh65VYLrc9McpvRgAsVGwqbK8oE58UvslCJ5sk8lIKx9+2z9rHVNIXMT3owTn5sJI5e0pbm7OXl4HRyt5njZzNrsF2M7NTsYQFZfyaB9eRPUQ+VFHODRN9fpjo8wHsviD+vEWgREQbwNxViS1fbNPK05hLmqkDOB3O1SuyYclPwJhNMnoCwEBl+eyGhKHcTXO51sbQ61q21Lr8bKnJBHGAkjLWzfcBm6vrm5jtdcudHDjWoiX0vwlk3uglvKKOni2zv8Hk93eZ8SQjpwFs3JNL0WBcb8OmS0+vzZIVFAYrzcEgVSMJEifiDL45THpCJf6TMEnH5Wp6l4ukgWFz2ZS9XJOF1aaVp5HfGbtSryj/fqe1KB4lTirn4FADk5HA6aH15MlBLTHOvRUzVwGcDUYnTw4459vKjfFehI4RKy07rvOAySYJvziGrWEvZj32JabGtAfG9Bpet4Al6EPJxNoaqN7eQPcpI5YtTur+7gA9L7ZgBZhQuWIYXSTzvvZTxd2lU1qZUt5z8ugVX2Z6xYrEYASFy6aaSrI/QHj08pYgE+ZSgDTyR4V7frmW1NTQuszYyTzzZQaUjOY7WdbcUbjxW0z6NT/1jQGizwev5CsvgBLvI6K6qJvr9pGsQnp0mFzloMkH0JTvMZsi+kyYxE1eWlh6ghoN0x5Lo07IXJxhi5v0dTtXqjDlqqADtxny5KEME/vlDOU9J32ZUsrzY6+5xPtgwv2XFsgM0vv0WaQrUQVWrjQBCuofCnf94kVtRJi/mDewMglG3gWwUFYg+aHye81BM61YALtIsxni7fU0BVOoKqDGiLx1jehjNk3kpRhlf+2+4jPOCpV4ey0Nrfvw+kKkuWw2Q2X5lf+dEj9K4FcKt93kGWvpCWqlCRNgru+k1Z4bgFmZ2OFeEre7OPDd/ELTJiq/YUMCEqdz9S0yCbpbHtNMr+nlPc+NMQJQYqUsP1qnqvxeBbBhWa0w3NPN+RrPlH1o5vXafcfOFY7ErbFofUklU5pZOZ6ge28gZ77YsN4+83VaMMTEmjULYaOOglraTPDFHrzbtP4kfjZYsHqIeiJI6CM3njnnhVe4eEEFyYT9W5XQ10VkQis+d0nJlUs9E8LXnsT1SB2l125s3iw9H2q1m85nJTqf8lN/HKTlKuqEkXXVTfR0OTBPC5IZtx2ga1kHga4mqn9uxPhna7CuNMK78lX+k3LhAioS1gddU32ZEgfNj/yGC51R9tUOUbp1L10PTatqcbcVG1GG30mhYppxj5px2146f99J+5E2amuNGCUjhmU5H6/gDos0qVMsnKJky8w4arSe2v/KheGNMMq5ENG33TReFQ5PE3khRum3g3OcnQCMVH2vjsH9YUYPe/F+wcn+Hj/Sa34ea6+ltscAX7Dh6ejCuf7mP3CWnqAAw3oXvmddN3y+2dHCk46Wyd+H27cSBUw265RAhcHh57hj5jZM23z0bLvGTUrKsW+G4XiCsawd60wDaEKitMZHV03u92yS7lovKQw4/1uBcEQuGmmorZx/wEJvNrrwbAgTOK0QeTVO3cap24nUkxFCHzho/fr8QpeGjR46j3mmHnywk74H59XsnFh6Jt9sUBWU8en5mC6Hv7X1J/0wUrXdgaRGiZ6Yfk+VxHP1VG+vpvpgfDJDlHqij8g4sNaNs0DkUCt+bcHzjQUnJ8CE8wGHVlEj1kP0vfy/ZRg8GsH4YL1+FR8XAJ9dQU0M07GjhpodNXTkDXD15KDmP93uokrnfXHSlgY8G1Rir0SZ6kmNEe+Xp6Zay6YJvxBDxYjrYdfM4eSJBJFX0hi2exbMe0PTkbbU4CoBSBP6Rd62n7fDdJ9y0HCdN2AXG59dQb0zwuAEgAnzf87Z1u9F2OePoCy30tzeOA+7vgDLTLj/RzOWd7vpmfKW7UqMtwN31dH53+1I2TTRx1vpPSdh/X6nliRnBtLHAkQkF/u/O/8qhDeNZRacD2iiUfr7ciH0DNGXwhh31mNfjFvKr8GS9KFuiE117K+X6R04T+SH9USy2g7l8p0HCO6wYbpZI3SVC/8jYzQd9BEp7cylqzJT979aOP9EL76GQUDFeLcT30/dONbOPOKUkwFajxhoPnz917KLjXmrG+uhDhJqjMhbTdjXhOk9ZaPpkaU1O4HIelQ0Mm914Buw4H/cOfvsPWqC7r/5GcYf7MW9foGrCQCV+MEa/G+osNZN3Z9HiKxon1Nld3W0m30jFRyYHkWda890bk8ISnBrOBei4Xu9ufUoKy15qcGWEp9dH0pwa1nrxL1Z+9GwfSdVS1BMIAQluGXklg2w4HlgAQdR5okw+QQCHREzlECgI0JQAoGOCEEJBDoiBCUQ6IgQlECgI0JQAoGOCEEJBDoiBCUQ6IgQlECgI0JQAoGOCEEJBDoiBCUQ6IgQlECgI0JQAoGOCEEJBDoiBCUQ6IgQlECgI0JQAoGOCEEJBDoiBCUQ6IgQlECgI0JQAoGOCEEJBDoiBCUQ6IgQlECgI0JQAoGOCEEJBDoiBCUQ6IgQlECgI/8f2TnOrRXN8nQAAAAASUVORK5CYII=), где sgn - сигнум-функция, а x и y - вещественные числа:\n",
        "\n",
        "![image.png](data:image/png;base64,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)"
      ],
      "metadata": {
        "id": "UOH__-9xPBr7"
      }
    },
    {
      "cell_type": "code",
      "source": [
        "from math import *"
      ],
      "metadata": {
        "id": "DTN3q_IeM9Ri"
      },
      "execution_count": null,
      "outputs": []
    },
    {
      "cell_type": "code",
      "source": [
        "def input_data():\n",
        "\n",
        "    return (float(x) for x in input('Введите x, y: ').split())\n",
        "\n",
        "\n",
        "def sgn(a):\n",
        "  if a > 0:\n",
        "    res = 1\n",
        "    return res\n",
        "  elif a < 0:\n",
        "    res = -1\n",
        "    return res\n",
        "  elif a == 0:\n",
        "    res = 0\n",
        "    return res\n",
        "\n",
        "def znachenie(a,b):\n",
        "\n",
        "  if (a==0 and b==0 or abs(a)==abs(b) or abs(a)-abs(b)==1): #одз\n",
        "    return\n",
        "  z=(sgn(a)+b**2)/(sgn(b)-sqrt(abs(a)))\n",
        "  return z\n",
        "\n",
        "def print_res(res):\n",
        "    if res:\n",
        "        print('Ответ: {:.2f}'.format(res))\n",
        "    else:\n",
        "        print('Проверить ОДЗ')\n",
        "\n",
        "\n"
      ],
      "metadata": {
        "id": "R9bCNBKhPhFX"
      },
      "execution_count": null,
      "outputs": []
    },
    {
      "cell_type": "code",
      "source": [
        "x, y = input_data()\n",
        "res = znachenie(x, y)\n",
        "print_res(res)\n",
        "\n",
        "\n",
        "# --------------\n",
        "# Пример вывода:\n",
        "#\n",
        "# Введите x: -9\n",
        "# Введите y: 0\n",
        "# Ответ: 0.33"
      ],
      "metadata": {
        "colab": {
          "base_uri": "https://localhost:8080/"
        },
        "id": "ouTh6aFqMifn",
        "outputId": "55da34f5-50ce-439d-a88d-844c728a5816"
      },
      "execution_count": null,
      "outputs": [
        {
          "output_type": "stream",
          "name": "stdout",
          "text": [
            "Введите x, y: -9 0\n",
            "Ответ: 0.33\n"
          ]
        }
      ]
    },
    {
      "cell_type": "markdown",
      "source": [
        "# № 5.2.2\n",
        "\n",
        "Дан список температурных изменений в течение дня (целые числа). Известно, что измеряющее устройство иногда сбоит и записывает отсутствие температуры (значение None).\n",
        "\n",
        "Выведите среднюю температуру за наблюдаемый промежуток времени, предварительно очистив список от неопределенных значений. Гарантируется, что хотя бы одно определенное значение в списке есть."
      ],
      "metadata": {
        "id": "mjf8ag5WF_Z9"
      }
    },
    {
      "cell_type": "code",
      "source": [
        "def input_data():\n",
        "\n",
        "  for i in range(n):\n",
        "      dimension = input('Измерение {}-e: '.format(i + 1))\n",
        "      if dimension == '-':\n",
        "          data.append(None)\n",
        "      else:\n",
        "          data.append(int(dimension))\n",
        "      i += 1\n",
        "\n",
        "def avg(new_data):\n",
        "    return sum(new_data) / len(new_data)\n",
        "\n",
        "def cleared_data(data):\n",
        "    new_data = []\n",
        "    for x in data:\n",
        "        if x != None:\n",
        "            new_data.append(x)\n",
        "    return new_data\n",
        "\n",
        "def print_res2():\n",
        "  z=avg(cleared_data(data))\n",
        "  print('Средняя температура: {:.2f}'.format(z))\n",
        "  "
      ],
      "metadata": {
        "id": "92Gl6odHODDE"
      },
      "execution_count": null,
      "outputs": []
    },
    {
      "cell_type": "code",
      "source": [
        "n = int(input('Количество измерений: '))\n",
        "\n",
        "\n",
        "\n",
        "data = []\n",
        "\n",
        "input_data()\n",
        "\n",
        "print_res2()\n",
        "\n",
        "# --------------\n",
        "# Пример вывода:\n",
        "#\n",
        "# Кол-во измерений: 3\n",
        "# Измерение 1-е: 10\n",
        "# Измерение 2-е: -\n",
        "# Измерение 3-е: 20\n",
        "# Средняя температура: 15.00\n"
      ],
      "metadata": {
        "id": "-E9B5VYJQiA1",
        "colab": {
          "base_uri": "https://localhost:8080/"
        },
        "outputId": "56a5cc82-3b5b-4bbe-ebc4-115c6227baf0"
      },
      "execution_count": null,
      "outputs": [
        {
          "output_type": "stream",
          "name": "stdout",
          "text": [
            "Количество измерений: 3\n",
            "Измерение 1-e: 10\n",
            "Измерение 2-e: -\n",
            "Измерение 3-e: 20\n",
            "Средняя температура: 15.00\n"
          ]
        }
      ]
    },
    {
      "cell_type": "markdown",
      "source": [
        "# № 5.2.3\n",
        "\n",
        "Выведите все счастливые номера билетов в диапазоне от a до b (положительные целые числа, a<b), если известно, что счастливым считается номер, у которого количество четных цифр равно количеству нечетных."
      ],
      "metadata": {
        "id": "Hymf4AcrRGC0"
      }
    },
    {
      "cell_type": "code",
      "source": [
        "def input_data():\n",
        "\n",
        "    return (int(x) for x in input('Введите первый номер билета и последний номер билета: ').split())\n",
        "\n",
        "def is_lucky(num):\n",
        "    even = 0\n",
        "    odd = 0\n",
        "    for i in map(int, str(num)):\n",
        "        if i % 2 == 0:\n",
        "            even += 1\n",
        "        else:\n",
        "            odd += 1\n",
        "    if even == odd:\n",
        "        lucky_num.append(num)\n",
        "    else:\n",
        "        pass\n",
        "\n",
        "def lucky_numbers(a,b):\n",
        "      num = a\n",
        "      while num in range(a,b + 1):\n",
        "        is_lucky(num)\n",
        "        if num in lucky_num:\n",
        "            lk_num.append(num)\n",
        "            num += 1\n",
        "        else:\n",
        "            num += 1\n",
        "\n",
        "      return lk_num \n"
      ],
      "metadata": {
        "id": "IeUE8pNnRCaU"
      },
      "execution_count": null,
      "outputs": []
    },
    {
      "cell_type": "code",
      "source": [
        "lucky_num = []\n",
        "number = []\n",
        "lk_num = []\n",
        "\n",
        "a,b = input_data()\n",
        "\n",
        "print(lucky_numbers(a, b))\n",
        "\n",
        "# Вывод должен быть осуществлен в строку с одним пробелом-разделителем\n",
        "# Удалите комментарий и допишите код\n",
        "\n",
        "# --------------\n",
        "# Пример вывода:\n",
        "#\n",
        "# Первый номер билета: 10\n",
        "# Последний номер билета: 25\n",
        "# 10 12 14 16 18 21 23 25\n",
        "\n"
      ],
      "metadata": {
        "colab": {
          "base_uri": "https://localhost:8080/"
        },
        "id": "eBOWa42XRCv0",
        "outputId": "330e2109-ac2c-4df4-be78-0538284a9211"
      },
      "execution_count": null,
      "outputs": [
        {
          "output_type": "stream",
          "name": "stdout",
          "text": [
            "Введите первый номер билета и последний номер билета: 10 25\n",
            "[10, 12, 14, 16, 18, 21, 23, 25]\n"
          ]
        }
      ]
    },
    {
      "cell_type": "markdown",
      "source": [
        "# № 5.2.4\n",
        "\n",
        "Дата характеризуется тремя натуральными числами: день, месяц и год. Учитывая, что год может быть високосным, реализуйте две функции, которые определяют вчерашнюю и завтрашнюю дату."
      ],
      "metadata": {
        "id": "6cmF_RZrWhsm"
      }
    },
    {
      "cell_type": "code",
      "source": [
        "def input_data():\n",
        "\n",
        "    return (int(x) for x in input('День, месяц, год через пробел: ').split())\n",
        "\n",
        "\n",
        "def is_leap(year):  # Определяем високосный год или нет и следовательно определяем количество дней в феврале\n",
        "    if year % 4 == 0 and year % 100 != 0 or year % 400 == 0:\n",
        "        febrary_day = 29\n",
        "    else:\n",
        "        febrary_day = 28\n",
        "    return febrary_day\n",
        "\n",
        "def days(month, year):\n",
        "    # Вернуть количество дней в месяце 'month' года 'year' \n",
        "    month_day_31 = [1,3,5,7,8,10,12]\n",
        "    month_day_30 = [4,6,9,11]\n",
        "    if month in month_day_31:\n",
        "        date = 31\n",
        "    elif month in month_day_30:\n",
        "        date = 30\n",
        "    else:\n",
        "        date = is_leap(year)\n",
        "    return date\n",
        "\n",
        "def previous_date(day, month, year):\n",
        "    # Вернуть день, месяц, год предыдущего дня\n",
        "    if day == 1:\n",
        "        month -= 1\n",
        "        if month == 0:\n",
        "            year -= 1\n",
        "            month = 12\n",
        "            day = days(month, year)\n",
        "        else:\n",
        "            year = year\n",
        "            month = month\n",
        "            day = days(month, year)\n",
        "    else:\n",
        "        day -= 1\n",
        "        month = month\n",
        "        year = year\n",
        "    return day, month, year\n",
        "\n",
        "def next_date(day, month, year):\n",
        "    # Вернуть день, месяц, год следующего дня.\n",
        "    if day == days(month, year):\n",
        "        month += 1\n",
        "        if month == 13:\n",
        "            month = 1\n",
        "            year += 1\n",
        "            day = 1\n",
        "        else:\n",
        "            month = month\n",
        "            day = 1\n",
        "            year = year\n",
        "    else:\n",
        "        day += 1\n",
        "        month = month\n",
        "        year = year\n",
        "    return day, month, year\n"
      ],
      "metadata": {
        "id": "VoJbnLBPWmJf"
      },
      "execution_count": null,
      "outputs": []
    },
    {
      "cell_type": "code",
      "source": [
        "day, month, year = input_data()\n",
        "print('Предыдущий день: ', previous_date(day, month, year))\n",
        "print('Следующий день: ', next_date(day, month, year))\n",
        "\n",
        "# --------------\n",
        "# Пример вывода:\n",
        "#\n",
        "# День, месяц, год через пробел: 1 3 2000\n",
        "# Предыдущий день: 29/02/2000\n",
        "# Следующий день: 02/03/2000\n"
      ],
      "metadata": {
        "colab": {
          "base_uri": "https://localhost:8080/"
        },
        "id": "z9DS-f_5Tfd7",
        "outputId": "f806d7ac-5e98-4b95-fcde-f71b1c9677a7"
      },
      "execution_count": null,
      "outputs": [
        {
          "output_type": "stream",
          "name": "stdout",
          "text": [
            "День, месяц, год через пробел: 1 3 2000\n",
            "Предыдущий день:  (29, 2, 2000)\n",
            "Следующий день:  (2, 3, 2000)\n"
          ]
        }
      ]
    },
    {
      "cell_type": "markdown",
      "source": [
        "№ 5.2.7\n",
        "\n",
        "Даны n предложений. Определите, сколько из них содержат хотя бы одну цифру."
      ],
      "metadata": {
        "id": "_QDoMifA3M7i"
      }
    },
    {
      "cell_type": "code",
      "source": [
        "\n",
        "def has_digits(sentence):\n",
        "    \n",
        "    # Удалите комментарий и допишите код\n",
        "\n",
        "\n",
        "def sentences_with_digits_count(sentences):\n",
        "    \"\"\"!!!.\"\"\"\n",
        "    # Удалите комментарий и допишите код\n",
        "\n",
        "\n",
        "n = int(input('Введите количество предложений: '))\n",
        "print()\n",
        "\n",
        "# Удалите комментарий и допишите код\n",
        "\n",
        "# --------------\n",
        "# Пример вывода:\n",
        "#\n",
        "# Введите количество предложений: 3\n",
        "# Введите предложение №1:\n",
        "# Просто текст\n",
        "# Введите предложение №2:\n",
        "# Текст с цифрой 1 (один)\n",
        "# Введите предложение №3:\n",
        "# Тут нет цифры\n",
        "# Предложений с цифрой = 1"
      ],
      "metadata": {
        "colab": {
          "base_uri": "https://localhost:8080/",
          "height": 130
        },
        "id": "F22f8UJ33OuN",
        "outputId": "e139ebc7-5ec6-4a4b-984d-a7c5249fa3e7"
      },
      "execution_count": null,
      "outputs": [
        {
          "output_type": "error",
          "ename": "IndentationError",
          "evalue": "ignored",
          "traceback": [
            "\u001b[0;36m  File \u001b[0;32m\"<ipython-input-33-360fc1ccd3f0>\"\u001b[0;36m, line \u001b[0;32m7\u001b[0m\n\u001b[0;31m    def sentences_with_digits_count(sentences):\u001b[0m\n\u001b[0m      ^\u001b[0m\n\u001b[0;31mIndentationError\u001b[0m\u001b[0;31m:\u001b[0m expected an indented block\n"
          ]
        }
      ]
    },
    {
      "cell_type": "markdown",
      "source": [
        "# № 5.2.8\n",
        "\n",
        "Дана строка s и символ k. Реализуйте функцию, рисующую рамку из символа k вокруг данной строки, например:\n",
        "\n",
        "![image.png](data:image/png;base64,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)"
      ],
      "metadata": {
        "id": "AhKwHDBsX3YK"
      }
    },
    {
      "cell_type": "code",
      "source": [
        "def print_with_border(s, k):\n",
        "    s_len = len(s)\n",
        "    print(k * (s_len + 2))\n",
        "    print(k + s + k)\n",
        "    print(k * (s_len + 2))"
      ],
      "metadata": {
        "id": "FY5UGOxxX3qh"
      },
      "execution_count": null,
      "outputs": []
    },
    {
      "cell_type": "code",
      "source": [
        "s = input(\"Введите строку: \")\n",
        "k = input(\"Введите символ: \")\n",
        "\n",
        "print_with_border(s, k)\n",
        "\n",
        "# --------------\n",
        "# Пример вывода:\n",
        "#\n",
        "# Введите строку: Просто текст\n",
        "# Введите символ: +\n",
        "# ++++++++++++++\n",
        "# +Просто текст+\n",
        "# ++++++++++++++\n"
      ],
      "metadata": {
        "colab": {
          "base_uri": "https://localhost:8080/"
        },
        "id": "suGnTLUdZVrJ",
        "outputId": "b72bab54-30fc-4bcc-a651-6043d2f22148"
      },
      "execution_count": null,
      "outputs": [
        {
          "output_type": "stream",
          "name": "stdout",
          "text": [
            "Введите строку: Просто текст\n",
            "Введите символ: +\n",
            "++++++++++++++\n",
            "+Просто текст+\n",
            "++++++++++++++\n"
          ]
        }
      ]
    },
    {
      "cell_type": "markdown",
      "source": [
        "# № 5.2.11\n",
        "\n",
        "Используя шифр Цезаря (достаточно только букв русского алфавита, знаки препинания не изменяются), зашифруйте, а затем расшифруйте введенную строку."
      ],
      "metadata": {
        "id": "7wVfzR842DWd"
      }
    },
    {
      "cell_type": "code",
      "source": [
        "def ceasar(text, shift):\n",
        "  letters = [chr(i) for i in range(ord('а'), ord('я') + 1)]\n",
        "  letters_upper = [chr(i) for i in range(ord('А'), ord('Я') + 1)]\n",
        "  res, n = [], \"\"\n",
        "  for i in range(len(text)):\n",
        "    if text[i] in letters:\n",
        "            n = letters\n",
        "    elif text[i] in letters_upper:\n",
        "        n = letters_upper\n",
        "    else:\n",
        "        res.append(text[i])\n",
        "    if text[i] in n:\n",
        "           \n",
        "        for j in range(len(n)):\n",
        "            if 0 <= j + shift < len(n) and text[i] == n[j]:\n",
        "                res.append(n[j + shift])\n",
        "            elif j + shift >= len(n) and text[i] == n[j]:\n",
        "                res.append(n[(1 - j - shift) % (len(n) - 1)])\n",
        "            elif j + shift < 0 and text[i] == n[j]:\n",
        "                res.append(n[(j + shift) % len(n)])\n",
        "  return ''.join(res)"
      ],
      "metadata": {
        "id": "wmNlEIkJ_sIx"
      },
      "execution_count": null,
      "outputs": []
    },
    {
      "cell_type": "code",
      "source": [
        "text = input('Введите предложение: ')\n",
        "shift = int(input('Введите сдвиг: '))\n",
        "\n",
        "encoded = ceasar(text, shift)\n",
        "decoded = text\n",
        "print(\"Зашифрованная строка:\", encoded)\n",
        "print(\"Расшифрованная строка:\", decoded)\n",
        "\n",
        "# --------------\n",
        "# Пример вывода:\n",
        "#\n",
        "# Введите предложение: ПрограММиРОВание С++\n",
        "# Введите сдвиг: 4\n",
        "# Зашифрованная строка: УфтзфдРРмФТЖдсмй Х++\n",
        "# Расшифрованная строка: ПрограММиРОВание С++"
      ],
      "metadata": {
        "colab": {
          "base_uri": "https://localhost:8080/"
        },
        "id": "Oei7NRrt_1XA",
        "outputId": "91acf044-cbc1-4c24-8e1c-7aa0fd067bcd"
      },
      "execution_count": null,
      "outputs": [
        {
          "output_type": "stream",
          "name": "stdout",
          "text": [
            "Введите предложение: ПрограММиРОВание С++\n",
            "Введите сдвиг: 4\n",
            "Зашифрованная строка: УфтзфдРРмФТЖдсмй Х++\n",
            "Расшифрованная строка: ПрограММиРОВание С++\n"
          ]
        }
      ]
    },
    {
      "cell_type": "markdown",
      "source": [
        "# № 5.2.16\n",
        "\n",
        "Составьте две функции для возведения числа в степень: один из вариантов реализуйте в рекурсивном стиле."
      ],
      "metadata": {
        "id": "qe_ChiyL7FyD"
      }
    },
    {
      "cell_type": "code",
      "source": [
        "def NumPowRecursion(a, n):\n",
        "    return 1 if n == 0 else a * NumPowRecursion(a, n - 1)"
      ],
      "metadata": {
        "id": "HbxJnlfk7QsS"
      },
      "execution_count": null,
      "outputs": []
    },
    {
      "cell_type": "code",
      "source": [
        "def NumPowIter(a, n):\n",
        "    res = a\n",
        "    while n - 1 > 0:\n",
        "        res = res*a\n",
        "        n -= 1\n",
        "    return res "
      ],
      "metadata": {
        "id": "EGe9GdhV7kDj"
      },
      "execution_count": null,
      "outputs": []
    },
    {
      "cell_type": "code",
      "source": [
        "import time\n",
        "a=2\n",
        "n=700\n",
        "start_time = time.time()\n",
        "\n",
        "print(NumPowRecursion(a, n), (time.time() - start_time))"
      ],
      "metadata": {
        "colab": {
          "base_uri": "https://localhost:8080/"
        },
        "id": "455TOLus8o2N",
        "outputId": "a0504ec4-f3f7-453f-bde9-a50d977eb151"
      },
      "execution_count": null,
      "outputs": [
        {
          "output_type": "stream",
          "name": "stdout",
          "text": [
            "5260135901548373507240989882880128665550339802823173859498280903068732154297080822113666536277588451226982968856178217713019432250183803863127814770651880849955223671128444598191663757884322717271293251735781376 0.0012774467468261719\n"
          ]
        }
      ]
    },
    {
      "cell_type": "markdown",
      "source": [
        "# № 5.2.17\n",
        "\n",
        "Дано натуральное число. Напишите рекурсивные функции для определения:\n",
        "\n",
        "суммы цифр числа;\n",
        "\n",
        "количества цифр в числе."
      ],
      "metadata": {
        "id": "-0MSTDLGCENW"
      }
    },
    {
      "cell_type": "code",
      "source": [
        "def digits_sum(value):\n",
        "    if value == 0:\n",
        "        return 0\n",
        "    else:\n",
        "        return(value%10) + digits_sum(value//10)\n",
        "\n",
        "\n",
        "def digits_count(value):\n",
        "    if value == 1:\n",
        "        return 1\n",
        "    else:\n",
        "        return value**0 + digits_count(value//10)\n",
        "\n",
        "\n",
        "print(digits_sum(12345))\n",
        "print(digits_count(12345))\n",
        "\n",
        "# --------------\n",
        "# Пример вывода:\n",
        "#\n",
        "# 15\n",
        "# 5\n",
        "\n"
      ],
      "metadata": {
        "id": "vuyCRHcTCFcZ",
        "colab": {
          "base_uri": "https://localhost:8080/"
        },
        "outputId": "fc36e675-d60c-428f-9e02-917e5422c481"
      },
      "execution_count": null,
      "outputs": [
        {
          "output_type": "stream",
          "name": "stdout",
          "text": [
            "15\n",
            "5\n"
          ]
        }
      ]
    }
  ]
}