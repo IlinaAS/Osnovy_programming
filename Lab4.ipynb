{
  "nbformat": 4,
  "nbformat_minor": 0,
  "metadata": {
    "colab": {
      "provenance": [],
      "collapsed_sections": [],
      "authorship_tag": "ABX9TyNPKCL5ZeFZzhYnJfGZ0aO+",
      "include_colab_link": true
    },
    "kernelspec": {
      "name": "python3",
      "display_name": "Python 3"
    },
    "language_info": {
      "name": "python"
    }
  },
  "cells": [
    {
      "cell_type": "markdown",
      "metadata": {
        "id": "view-in-github",
        "colab_type": "text"
      },
      "source": [
        "<a href=\"https://colab.research.google.com/github/IlinaAS/Osnovy_programming/blob/main/Lab4.ipynb\" target=\"_parent\"><img src=\"https://colab.research.google.com/assets/colab-badge.svg\" alt=\"Open In Colab\"/></a>"
      ]
    },
    {
      "cell_type": "markdown",
      "source": [
        "# Программирование на языке высокого уровня (Python).\n",
        "# https://www.yuripetrov.ru/edu/python\n",
        "\n",
        "#\n",
        "# Выполнила: Ильина А. С.\n",
        "# Группа: АДЭУ-221\n",
        "# E-mail: alishass.ilyina@yandex.ru"
      ],
      "metadata": {
        "id": "r3eqnn39NUcB"
      }
    },
    {
      "cell_type": "markdown",
      "source": [
        "# 4.2.1. Условный оператор\n",
        "# № 4.2.1\n",
        "\n",
        "Рассчитать значение f при заданном значении вещественного числа x:\n",
        "\n",
        "![Снимок.PNG](data:image/png;base64,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)\n",
        "\n",
        "При выводе на экран оставьте 2 знака после запятой."
      ],
      "metadata": {
        "id": "aie4wiHsJdCj"
      }
    },
    {
      "cell_type": "code",
      "execution_count": null,
      "metadata": {
        "colab": {
          "base_uri": "https://localhost:8080/"
        },
        "id": "zFkQA2iMJOHv",
        "outputId": "675ee8a3-8d85-48e3-fb61-c0ef8dd3976d"
      },
      "outputs": [
        {
          "output_type": "stream",
          "name": "stdout",
          "text": [
            "x=10\n",
            "f =  103.16\n"
          ]
        }
      ],
      "source": [
        "x = int(input('x=')) # Удалите комментарий и допишите код\n",
        "\n",
        "\n",
        "if x >= 0:\n",
        "      f = (x**(1/2))+(x**2)   # Удалите комментарий и допишите код\n",
        "else:\n",
        "      f=1/x\n",
        "\n",
        "  \n",
        "\n",
        "print('f = ', round(f, 2)) # Удалите комментарий и допишите код)\n",
        "\n",
        "# --------------\n",
        "# Пример вывода:\n",
        "#\n",
        "# Введите число x: -10\n",
        "# f = -0.10\n",
        "\n",
        "# Введите число x: 0\n",
        "# f = 0.00\n",
        "\n",
        "# Введите число x: 10\n",
        "# f = 103.16\n",
        "\n"
      ]
    },
    {
      "cell_type": "markdown",
      "source": [
        "# № 4.2.2\n",
        "\n",
        "Определите максимальное и минимальное значения из двух различных целых чисел."
      ],
      "metadata": {
        "id": "aewpsCf_NowX"
      }
    },
    {
      "cell_type": "code",
      "source": [
        "a1 = int(input('a1='))   # Удалите комментарий и допишите код\n",
        "a2 = int(input('a2='))   # Удалите комментарий и допишите код\n",
        "\n",
        "# Переменная 'a_min' должна содержать минимум, 'a_max' - максимум\n",
        "if a1 > a2:\n",
        "    print('Максимум:', a1, 'минимум:', a2)\n",
        "else:\n",
        "    print('Максимум:', a2, 'минимум:', a1)\n",
        "\n",
        "\n",
        "\n",
        "# --------------\n",
        "# Пример вывода:\n",
        "#\n",
        "# Введите первое число: 1\n",
        "# Введите второе число: 2\n",
        "# Максимум: 2, минимум: 1\n",
        "\n",
        "# Введите первое число: 5\n",
        "# Введите второе число: 5\n",
        "# Максимум: 5, минимум: 5\n",
        "\n",
        "# Введите первое число: 100\n",
        "# Введите второе число: -1\n",
        "# Максимум: 100, минимум: -1\n",
        "\n"
      ],
      "metadata": {
        "colab": {
          "base_uri": "https://localhost:8080/"
        },
        "id": "TdJwux-YN3nE",
        "outputId": "fd284c8f-a813-439a-f566-c97ffca05b03"
      },
      "execution_count": null,
      "outputs": [
        {
          "output_type": "stream",
          "name": "stdout",
          "text": [
            "a1=100\n",
            "a2=-1\n",
            "Максимум: 100 минимум: -1\n"
          ]
        }
      ]
    },
    {
      "cell_type": "markdown",
      "source": [
        "# № 4.2.3\n",
        "\n",
        "Вася пытается высунуть голову в форточку размерами a и b см. Приняв условно, что его голова - круглая диаметром d см, определите, сможет ли Вася сделать это. Для прохождения головы в форточку необходим зазор в 1 см. с каждой стороны.\n",
        "\n",
        "Все величины - целые числа."
      ],
      "metadata": {
        "id": "F9xukDKjWWTT"
      }
    },
    {
      "cell_type": "code",
      "source": [
        "a = int(input('Ширина форточки: '))  # Удалите комментарий и допишите код\n",
        "b = int(input('Высота форточки: '))  # Удалите комментарий и допишите код\n",
        "d = int(input('Диаметр головы: '))  # Удалите комментарий и допишите код\n",
        "fix = 1  # Зазор\n",
        "\n",
        "if ((a or b or d) < 0):\n",
        "    print('Проверьте ввод')\n",
        "# Введенные числа должны быть положительными, если так - осуществляем\n",
        "# расчет, иначе выводим \"Проверьте ввод\"\n",
        "else:\n",
        "    if (a + fix > d) and (b + fix > d):   # Удалите комментарий и допишите код\n",
        "        print(\"Да\")\n",
        "    # Вывести \"Да\" или \"Нет\"\n",
        "    # Удалите комментарий и допишите код\n",
        "    else:\n",
        "        print(\"Нет\")\n",
        "    # Удалите комментарий и допишите код\n",
        "\n",
        "# --------------\n",
        "# Пример вывода:\n",
        "#\n",
        "# Ширина форточки: 5\n",
        "# Высота форточки: 6\n",
        "# Диаметр головы: 6\n",
        "# Нет\n",
        "\n",
        "# Ширина форточки: 6\n",
        "# Высота форточки: 7\n",
        "# Диаметр головы: 4\n",
        "# Да"
      ],
      "metadata": {
        "colab": {
          "base_uri": "https://localhost:8080/"
        },
        "id": "Qhw1fETWWd9u",
        "outputId": "b3c2f975-f5f5-4029-b9a5-1c69660b501c"
      },
      "execution_count": null,
      "outputs": [
        {
          "output_type": "stream",
          "name": "stdout",
          "text": [
            "Ширина форточки: 6\n",
            "Высота форточки: 7\n",
            "Диаметр головы: 4\n",
            "Да\n"
          ]
        }
      ]
    },
    {
      "cell_type": "markdown",
      "source": [
        "# № 4.2.4\n",
        "\n",
        "Известны год и номер месяца сегодняшнего дня, а также год и номер месяца рождения человека (нумерация месяцев с 1: январь - 1 и т.д.). Определите возраст человека (число полных лет)."
      ],
      "metadata": {
        "id": "x1Z0wdpzgaAs"
      }
    },
    {
      "cell_type": "code",
      "source": [
        "year_today = int(input('Введите текущий год: '))    # Удалите комментарий и допишите код\n",
        "month_today = int(input('Введите текущий месяц: ')) # Удалите комментарий и допишите код\n",
        "\n",
        "year = int(input('Введите год рождения: ')) # Удалите комментарий и допишите код\n",
        "month = int(input('Введите месяц рождения: ')) # Удалите комментарий и допишите код\n",
        "\n",
        "\n",
        "if (month_today >= month):\n",
        "    age = (year_today - year)\n",
        "else:\n",
        "    age = (year_today - year - 1)\n",
        "\n",
        "print(\"Число полных лет: \", age)\n",
        "\n",
        "# --------------\n",
        "# Пример вывода:\n",
        "#\n",
        "# Введите текущий год: 2017\n",
        "# Введите текущий месяц: 5\n",
        "# Введите год рождения: 2000\n",
        "# Введите месяц рождения: 1\n",
        "# Число полных лет:  17\n",
        "#\n",
        "# Введите текущий год: 2015\n",
        "# Введите текущий месяц: 6\n",
        "# Введите год рождения: 2010\n",
        "# Введите месяц рождения: 8\n",
        "# Число полных лет:  4\n",
        "#\n",
        "# Введите текущий год: 2020\n",
        "# Введите текущий месяц: 5\n",
        "# Введите год рождения: 2000\n",
        "# Введите месяц рождения: 5\n",
        "# Число полных лет:  20\n"
      ],
      "metadata": {
        "colab": {
          "base_uri": "https://localhost:8080/"
        },
        "id": "sDoUHWrpgjFB",
        "outputId": "7274f7a8-3f23-430c-f861-686334decc59"
      },
      "execution_count": null,
      "outputs": [
        {
          "output_type": "stream",
          "name": "stdout",
          "text": [
            "Введите текущий год: 2020\n",
            "Введите текущий месяц: 5\n",
            "Введите год рождения: 2000\n",
            "Введите месяц рождения: 5\n",
            "Число полных лет:  20\n"
          ]
        }
      ]
    },
    {
      "cell_type": "markdown",
      "source": [
        "# № 4.2.5\n",
        "\n",
        "Дана точка с целыми ненулевыми координатами (x;y). Определить номер четверти координатной плоскости, которой она принадлежит."
      ],
      "metadata": {
        "id": "ONk67zaQkc3n"
      }
    },
    {
      "cell_type": "code",
      "source": [
        "x = int(input('Введите координату x: ')) \n",
        "y = int(input('Введите координату y: '))\n",
        "\n",
        "if (x and y > 0):\n",
        "    print(\"1-я четверть\")\n",
        "elif (x<0 and y>0):\n",
        "    print('2-ая четверть') \n",
        "elif (x<0 and y<0):\n",
        "    print('3-я четверть')\n",
        "elif (x>0 and y<0):\n",
        "    print('4-ая четверть')\n",
        "\n",
        "\n",
        "# --------------\n",
        "# Пример вывода:\n",
        "#\n",
        "# Введите координату x: 5\n",
        "# Введите координату y: 7\n",
        "# 1-я четверть\n",
        "\n"
      ],
      "metadata": {
        "colab": {
          "base_uri": "https://localhost:8080/"
        },
        "id": "U1G11EXykit9",
        "outputId": "b790d1d6-0f71-4a58-d2dc-0f0b568da59a"
      },
      "execution_count": null,
      "outputs": [
        {
          "output_type": "stream",
          "name": "stdout",
          "text": [
            "Введите координату x: 5\n",
            "Введите координату y: 7\n",
            "1-я четверть\n"
          ]
        }
      ]
    },
    {
      "cell_type": "markdown",
      "source": [
        "# № 4.2.6\n",
        "\n",
        "Даны вещественные числа a, b, c (a≠0).\n",
        "\n",
        "Решите уравнение ax2+bx+c=0. При выводе значений оставьте 1 знак после запятой."
      ],
      "metadata": {
        "id": "fA--A085mql6"
      }
    },
    {
      "cell_type": "code",
      "source": [
        "a = float(input('a = '))# Удалите комментарий и допишите код\n",
        "b = float(input('b = '))# Удалите комментарий и допишите код\n",
        "c = float(input('c = '))# Удалите комментарий и допишите код\n",
        "\n",
        "D = ((b**2)-(4*a*c))\n",
        "\n",
        "if (D > 0):\n",
        "  x1 = (((-1*b)+(D**(1/2)))/2*a)\n",
        "  x2 = (((-1*b)-(D**(1/2)))/2*a)\n",
        "  print(\"x1 = \",x1,\"x2 = \",x2)\n",
        "elif (D == 0):\n",
        "  print('x =', round(((-1*b)/2*a), 1))\n",
        "else: \n",
        "  print('Решений нет')\n",
        "# Расчет дискриминанта\n",
        "# Удалите комментарий и допишите код\n",
        "\n",
        "# Вывод решения в зависимости от значения дискриминанта\n",
        "# При выводе значений оставьте 1 знак после запятой\n",
        "# Удалите комментарий и допишите код\n",
        "\n",
        "# --------------\n",
        "# Пример вывода:\n",
        "#\n",
        "# a = 1\n",
        "# b = 2\n",
        "# c = 3\n",
        "# Решений нет\n",
        "#\n",
        "# a = 1\n",
        "# b = 2\n",
        "# c = 1\n",
        "# x = -1.0\n",
        "#\n",
        "# a = 1\n",
        "# b = 3\n",
        "# c = -4\n",
        "# x1 = -4.0, x2 = 1.0\n",
        "\n"
      ],
      "metadata": {
        "colab": {
          "base_uri": "https://localhost:8080/"
        },
        "id": "_TRBdZRumx1i",
        "outputId": "5d32f41f-fd9f-4588-fe00-b0c97dafd467"
      },
      "execution_count": null,
      "outputs": [
        {
          "output_type": "stream",
          "name": "stdout",
          "text": [
            "a = 1\n",
            "b = 3\n",
            "c = -4\n",
            "x1 =  1.0 x2 =  -4.0\n"
          ]
        }
      ]
    },
    {
      "cell_type": "markdown",
      "source": [
        "# 4.2.2. Цикл с условием\n",
        "# № 4.2.7\n",
        "\n",
        "Дана непустая последовательность целых чисел, оканчивающаяся нулем. Найти сумму и количество введенных чисел."
      ],
      "metadata": {
        "id": "pJyEzXX0yoA5"
      }
    },
    {
      "cell_type": "code",
      "source": [
        "nums_sum = 0  # сумма\n",
        "nums_count = 0  # количество\n",
        "\n",
        "x, n, sum = 1, -1, -1   # Удалите комментарий и допишите код\n",
        "while x != 0:\n",
        "    sum += x\n",
        "    n += 1\n",
        "    x = int(input())\n",
        "print('Сумма =',sum,'Количество =',n)# Удалите комментарий и допишите код\n",
        "\n",
        "# Удалите комментарий и допишите код\n",
        "\n",
        "# --------------\n",
        "# Пример вывода:\n",
        "#\n",
        "# Введите 1-е число: 1\n",
        "# Введите 2-е число: 2\n",
        "# Введите 3-е число: 3\n",
        "# Введите 4-е число: 4\n",
        "# Введите 5-е число: 0\n",
        "# Сумма = 10\n",
        "# Количество = 4\n",
        "#\n",
        "# Введите 1-е число: 0\n",
        "# Сумма = 0\n",
        "# Количество = 0\n",
        "\n"
      ],
      "metadata": {
        "colab": {
          "base_uri": "https://localhost:8080/"
        },
        "id": "u2uDugjbywFO",
        "outputId": "1dba3ed1-3368-435f-934e-79251e7b3b67"
      },
      "execution_count": null,
      "outputs": [
        {
          "output_type": "stream",
          "name": "stdout",
          "text": [
            "0\n",
            "Сумма = 0 Количество = 0\n"
          ]
        }
      ]
    },
    {
      "cell_type": "markdown",
      "source": [
        "# № 4.2.8\n",
        "\n",
        "Дано число n. Из чисел 0,5,10,15,20,25,... напечатать те, которые не превышают n."
      ],
      "metadata": {
        "id": "09XLg3HTQVOH"
      }
    },
    {
      "cell_type": "code",
      "source": [
        "n = int(input('n ='))  # Удалите комментарий и допишите код\n",
        "\n",
        "a = 0\n",
        "print(a)\n",
        "# Удалите комментарий и допишите код\n",
        "while a<=n:\n",
        "      a = a+5\n",
        "      if a<n:\n",
        "        print(a)\n",
        "      else:\n",
        "        break\n",
        "# --------------\n",
        "# Пример вывода:\n",
        "#\n",
        "# n = 0\n",
        "# 0\n",
        "#\n",
        "# n = 10\n",
        "# 0\n",
        "# 5\n",
        "# 10\n",
        "#\n",
        "# n = 12\n",
        "# 0\n",
        "# 5\n",
        "# 10\n"
      ],
      "metadata": {
        "colab": {
          "base_uri": "https://localhost:8080/"
        },
        "id": "k2LJqxT8Qb0H",
        "outputId": "aa12189d-cc46-46f3-d0ec-3eff4cb471e1"
      },
      "execution_count": null,
      "outputs": [
        {
          "output_type": "stream",
          "name": "stdout",
          "text": [
            "n =12\n",
            "0\n",
            "5\n",
            "10\n"
          ]
        }
      ]
    },
    {
      "cell_type": "markdown",
      "source": [
        "# № 4.2.9\n",
        "\n",
        "Дано вещественное число a. Найдите наименьшее натуральное n, для которого верно\n",
        "\n",
        " ![Снимок.PNG](data:image/png;base64,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)\n"
      ],
      "metadata": {
        "id": "7FR4XJwwSWuI"
      }
    },
    {
      "cell_type": "code",
      "source": [
        "a = float(input('a = '))    # Удалите комментарий и допишите код\n",
        "\n",
        "n = 1 #Присваиваю статичное значение для переменной\n",
        "x_sum = list()    #Создаю список\n",
        "x_sum.append(n)     #Добавляю последним элементом в список\n",
        "\n",
        "while sum(x_sum)<=a:\n",
        "  n = n+1\n",
        "  i = 1/n\n",
        "  x_sum.append(i)\n",
        "\n",
        "\n",
        "print('n = ',n)\n",
        "\n",
        "# Удалите комментарий и допишите код\n",
        "\n",
        "# --------------\n",
        "# Пример вывода:\n",
        "#\n",
        "# a = 1.5\n",
        "# n = 3\n",
        "#\n",
        "# a = 2\n",
        "# n = 4\n",
        "\n"
      ],
      "metadata": {
        "colab": {
          "base_uri": "https://localhost:8080/"
        },
        "id": "7r4pRB_7SqTP",
        "outputId": "2e8a9504-19d8-4c59-a734-d5c7f1e7e419"
      },
      "execution_count": null,
      "outputs": [
        {
          "output_type": "stream",
          "name": "stdout",
          "text": [
            "a = 2\n",
            "n =  4\n"
          ]
        }
      ]
    },
    {
      "cell_type": "markdown",
      "source": [
        "# № 4.2.10\n",
        "\n",
        "Дано натуральное число. Определите сумму и количество его цифр."
      ],
      "metadata": {
        "id": "4av-v2xOWRUU"
      }
    },
    {
      "cell_type": "code",
      "source": [
        "n = list(map(int, input('n = ')))  # Удалите комментарий и допишите код\n",
        "\n",
        "n_sum = sum(n)  # Удалите комментарий и допишите код\n",
        "n_count = len(n)  # Количество элементов в списке n\n",
        "\n",
        "print('Сумма = ', n_sum)\n",
        "print('Количество = ', n_count)\n",
        "# Удалите комментарий и допишите код\n",
        "\n",
        "# --------------\n",
        "# Пример вывода:\n",
        "#\n",
        "# n = 12345\n",
        "# Сумма = 15\n",
        "# Количество = 5\n",
        "\n"
      ],
      "metadata": {
        "colab": {
          "base_uri": "https://localhost:8080/"
        },
        "id": "e3S-8i-AWkNN",
        "outputId": "01396fa9-8275-4621-d130-74136682eeed"
      },
      "execution_count": null,
      "outputs": [
        {
          "output_type": "stream",
          "name": "stdout",
          "text": [
            "n = 12345\n",
            "Сумма =  15\n",
            "Количество =  5\n"
          ]
        }
      ]
    },
    {
      "cell_type": "markdown",
      "source": [
        "# 4.2.3. Совместный цикл (цикл по коллекциям)\n",
        "# № 4.2.12\n",
        "\n",
        "Даны целые числа a и b (a может быть больше b). Напечатайте:\n",
        "\n",
        "числа от минимального до максимального в строчку (разделяя пробелом);\n",
        "\n",
        "числа от максимального до минимального «столбиком»."
      ],
      "metadata": {
        "id": "H8ao9EeNywnw"
      }
    },
    {
      "cell_type": "code",
      "source": [
        "a = int(input('a = '))    # Удалите комментарий и допишите код\n",
        "b = int(input('b = '))    # Удалите комментарий и допишите код\n",
        "\n",
        "\n",
        "lst = list(range(a,b+1,1))\n",
        "print(lst)\n",
        "\n",
        "lst.reverse()  # Переворот списка\n",
        "print(\"\\n\".join(map(str, lst)))\n",
        " \n",
        "\n",
        "# --------------\n",
        "# Пример вывода:\n",
        "#\n",
        "# a = 1\n",
        "# b = 5\n",
        "# 1 2 3 4 5\n",
        "# 5\n",
        "# 4\n",
        "# 3\n",
        "# 2\n",
        "# 1\n",
        "\n"
      ],
      "metadata": {
        "colab": {
          "base_uri": "https://localhost:8080/"
        },
        "id": "J-0iJ9Dmy3jg",
        "outputId": "c7cbf460-cb7b-400b-d001-f1e91018450c"
      },
      "execution_count": null,
      "outputs": [
        {
          "output_type": "stream",
          "name": "stdout",
          "text": [
            "a = 1\n",
            "b = 5\n",
            "[1, 2, 3, 4, 5]\n",
            "5\n",
            "4\n",
            "3\n",
            "2\n",
            "1\n"
          ]
        }
      ]
    },
    {
      "cell_type": "markdown",
      "source": [
        "# № 4.2.13\n",
        "\n",
        "Для введенных с клавиатуры положительных целых чисел a и b (a≤b) определите:\n",
        "\n",
        "сумму всех целых чисел от a до b;\n",
        "\n",
        "произведение всех целых чисел от a до b;\n",
        "\n",
        "среднее арифметическое всех целых чисел от a до b;\n",
        "\n",
        "среднее геометрическое нечетных чисел от a до b.\n",
        "\n",
        "Отрезок поиска включает сами числа a и b. При выводе вещественных результатов оставьте два знака после запятой."
      ],
      "metadata": {
        "id": "3mM6SLi_7Esl"
      }
    },
    {
      "cell_type": "code",
      "source": [
        "a = int(input('a = '))    # Удалите комментарий и допишите код\n",
        "b = int(input('b = '))# Удалите комментарий и допишите код\n",
        "\n",
        "ls = list(range(a,b+1,1))\n",
        "n_sum = sum(ls)\n",
        "\n",
        "n_mult = 1\n",
        "a = 0\n",
        "while a<len(ls):\n",
        "    n_mult = n_mult*ls[a]\n",
        "    a += 1\n",
        "\n",
        "n_avg = n_sum/len(ls)\n",
        "\n",
        "print(\"Сумма =\", n_sum)\n",
        "print(\"Произведение =\", n_mult)\n",
        "print(\"Среднее арифметическое =\", n_avg)\n",
        "\n",
        "b = 0\n",
        "c = 0\n",
        "n_avg_geom = 1\n",
        "while b<len(ls):\n",
        "    if ls[b]%2==1:\n",
        "        n_avg_geom = n_avg_geom*ls[b]\n",
        "        b += 2\n",
        "        c += 1\n",
        "    else:\n",
        "        b += 1\n",
        "\n",
        "n_avg_geom = round((n_avg_geom**(1/c)), 2)\n",
        "\n",
        "print(\"Среднее геометрическое нечетных чисел =\", n_avg_geom)\n",
        "\n",
        "# --------------\n",
        "# Пример вывода:\n",
        "#\n",
        "# a = 1\n",
        "# b = 5\n",
        "# Сумма = 15\n",
        "# Произведение = 120\n",
        "# Среднее арифметическое = 3.00\n",
        "# Среднее геометрическое нечетных чисел = 2.47\n",
        "\n"
      ],
      "metadata": {
        "colab": {
          "base_uri": "https://localhost:8080/"
        },
        "id": "i9xnE7WC779p",
        "outputId": "4bd80b3c-0fa5-4b73-d942-7c9a2a58f0b8"
      },
      "execution_count": null,
      "outputs": [
        {
          "output_type": "stream",
          "name": "stdout",
          "text": [
            "a = 1\n",
            "b = 5\n",
            "Сумма = 15\n",
            "Произведение = 120\n",
            "Среднее арифметическое = 3.0\n",
            "Среднее геометрическое нечетных чисел = 2.47\n"
          ]
        }
      ]
    },
    {
      "cell_type": "markdown",
      "source": [
        "# № 4.2.14\n",
        "\n",
        "Начав тренировки, лыжник в первый день пробежал s км. (s>0, вещественное число). Каждый следующий день он увеличивал пробег на p % (0<p≤100, вещественное число) от пробега предыдущего дня. Определите:\n",
        "\n",
        "пробег лыжника за второй, третий, …, десятый день тренировок;\n",
        "\n",
        "какой суммарный путь он пробежал за первые 10 дней тренировок.\n",
        "\n",
        "При выводе вещественных результатов оставьте один знак после запятой."
      ],
      "metadata": {
        "id": "2FHoFM-DGeaG"
      }
    },
    {
      "cell_type": "code",
      "source": [
        "s = float(input('Пробег за первый день (км.) = '))    \n",
        "p = float(input('На сколько увеличивает пробег (%) = '))    \n",
        "\n",
        "ls = list()\n",
        "ls.append(s)    # Добавляю элемент в конец списка\n",
        "\n",
        "b = 1     # Переменная для удобства\n",
        "for x in range(9):  # Цикл на 10 действий \n",
        "  s = ((s*(p/100))+s)+0.0001\n",
        "  b += 1\n",
        "  ls.append(s)\n",
        "  print('Пробег за',b,'день: ', round(s, 1), 'км.')\n",
        "\n",
        "total = sum(ls)\n",
        "print(\"Суммарный пробег: \", round(total, 1),'км.')\n",
        "\n",
        "# --------------\n",
        "# Пример вывода:\n",
        "#\n",
        "# Пробег за 1-й день (км.) = 5\n",
        "# На сколько увеличивает пробег (%) = 10\n",
        "# Пробег за 2-й день: 5.5 км.\n",
        "# Пробег за 3-й день: 6.1 км.\n",
        "# Пробег за 4-й день: 6.7 км.\n",
        "# Пробег за 5-й день: 7.3 км.\n",
        "# Пробег за 6-й день: 8.1 км.\n",
        "# Пробег за 7-й день: 8.9 км.\n",
        "# Пробег за 8-й день: 9.7 км.\n",
        "# Пробег за 9-й день: 10.7 км.\n",
        "# Пробег за 10-й день: 11.8 км.\n",
        "# Суммарный пробег: 79.7 км.\n",
        "\n"
      ],
      "metadata": {
        "colab": {
          "base_uri": "https://localhost:8080/"
        },
        "id": "Zzsj2ovQGk90",
        "outputId": "f61c8b80-9cab-46a9-99ef-c196622f97a3"
      },
      "execution_count": null,
      "outputs": [
        {
          "output_type": "stream",
          "name": "stdout",
          "text": [
            "Пробег за первый день (км.) = 5\n",
            "На сколько увеличивает пробег (%) = 10\n",
            "Пробег за 2 день:  5.5 км.\n",
            "Пробег за 3 день:  6.1 км.\n",
            "Пробег за 4 день:  6.7 км.\n",
            "Пробег за 5 день:  7.3 км.\n",
            "Пробег за 6 день:  8.1 км.\n",
            "Пробег за 7 день:  8.9 км.\n",
            "Пробег за 8 день:  9.7 км.\n",
            "Пробег за 9 день:  10.7 км.\n",
            "Пробег за 10 день:  11.8 км.\n",
            "Суммарный пробег:  79.7 км.\n"
          ]
        }
      ]
    },
    {
      "cell_type": "markdown",
      "source": [
        "# № 4.2.15\n",
        "\n",
        "Известна масса каждого предмета в кг., загружаемого в грузовик. Определить, возможна ли перевозка груза, если грузоподъемность грузовика равна p кг."
      ],
      "metadata": {
        "id": "FYVTOR0MGlWw"
      }
    },
    {
      "cell_type": "code",
      "source": [
        "p = int(input('Грузоподъемность грузовика (кг.) = '))\n",
        "n = int(input('Количество предметов = ')) \n",
        "\n",
        "ls = list()\n",
        "\n",
        "for x in range(n):\n",
        "    a = int(input('Масса предмета (кг.) = '))\n",
        "    ls.append(a)\n",
        "if sum(ls)>p:\n",
        "    print('Нет')\n",
        "else:\n",
        "    print('Да')\n",
        "\n",
        "\n",
        "# --------------\n",
        "# Пример вывода:\n",
        "#\n",
        "# Грузоподъемность грузовика (кг.) = 10\n",
        "# Количество предметов = 2\n",
        "# Масса 1-го предмета (кг.) = 3\n",
        "# Масса 2-го предмета (кг.) = 3\n",
        "# Да\n",
        "\n"
      ],
      "metadata": {
        "colab": {
          "base_uri": "https://localhost:8080/"
        },
        "id": "xwPMKkG7Gq20",
        "outputId": "a904b753-2e15-4952-f683-2d2635176634"
      },
      "execution_count": null,
      "outputs": [
        {
          "output_type": "stream",
          "name": "stdout",
          "text": [
            "Грузоподъемность грузовика (кг.) = 10\n",
            "Количество предметов = 2\n",
            "Масса предмета (кг.) = 3\n",
            "Масса предмета (кг.) = 3\n",
            "Да\n"
          ]
        }
      ]
    },
    {
      "cell_type": "markdown",
      "source": [
        "# № 4.2.16\n",
        "\n",
        "В области несколько районов. Заданы площади, засеваемые пшеницей (га.), и средняя урожайность (ц/га) в каждом районе.\n",
        "\n",
        "Определите количество пшеницы, собранное по области. При выводе вещественных результатов оставьте один знак после запятой."
      ],
      "metadata": {
        "id": "NaycgVkQGrOZ"
      }
    },
    {
      "cell_type": "code",
      "source": [
        "n = int(input('Количество районов = '))   # Удалите комментарий и допишите код\n",
        "\n",
        "ls = list()\n",
        "\n",
        "for x in range(n):\n",
        "    s = float(input('Площадь района (га) = '))\n",
        "    y = float(input('Урожайность района (ц/га.) = '))\n",
        "    i = y*s\n",
        "    ls.append(i)\n",
        "\n",
        "\n",
        "print(round(sum(ls), 1))\n",
        "# --------------\n",
        "# Пример вывода:\n",
        "#\n",
        "# Количество районов = 3\n",
        "# Площадь 1-го района (га) = 4\n",
        "# Урожайность в 1-м районе (ц/га.) = 2\n",
        "# Площадь 2-го района (га) = 7\n",
        "# Урожайность в 2-м районе (ц/га.) = 3\n",
        "# Площадь 3-го района (га) = 9\n",
        "# Урожайность в 3-м районе (ц/га.) = 4\n",
        "# Собрано пшеницы: 65.0 ц.\n",
        "\n"
      ],
      "metadata": {
        "colab": {
          "base_uri": "https://localhost:8080/"
        },
        "id": "_FgSnv5YGwZJ",
        "outputId": "4c6e2cf6-a562-4a09-e7b8-326a6423ab41"
      },
      "execution_count": null,
      "outputs": [
        {
          "output_type": "stream",
          "name": "stdout",
          "text": [
            "Количество районов = 3\n",
            "Площадь района (га) = 4\n",
            "Урожайность района (ц/га.) = 2\n",
            "Площадь района (га) = 7\n",
            "Урожайность района (ц/га.) = 3\n",
            "Площадь района (га) = 9\n",
            "Урожайность района (ц/га.) = 4\n",
            "65.0\n"
          ]
        }
      ]
    },
    {
      "cell_type": "markdown",
      "source": [
        "# 4.2.4. Прерывание и продолжение циклов\n",
        "\n",
        "# № 4.2.17\n",
        "\n",
        "Решите задачу № 4.2.7, организовав бесконечный цикл, который бы прерывался при выполнении условия, используя оператор break."
      ],
      "metadata": {
        "id": "kZ-EHiBTGwjD"
      }
    },
    {
      "cell_type": "code",
      "source": [
        "nums_sum = 0  # сумма\n",
        "nums_count = 0  # количество\n",
        "a = int(input('Введите число:'))\n",
        "ls = list()\n",
        "\n",
        "while a!=0:\n",
        "    nums_count = nums_count+1\n",
        "    ls.append(a)\n",
        "    nums_sum = nums_sum+a\n",
        "    a = int(input('Введите число: '))\n",
        "    if a==0:\n",
        "        break\n",
        "\n",
        "print('Сумма = ', nums_sum)\n",
        "print('Количество = ', nums_count)\n",
        "\n",
        "\n",
        "# --------------\n",
        "# Пример вывода:\n",
        "#\n",
        "# Введите 1-е число: 1\n",
        "# Введите 2-е число: 2\n",
        "# Введите 3-е число: 3\n",
        "# Введите 4-е число: 4\n",
        "# Введите 5-е число: 0\n",
        "# Сумма = 10\n",
        "# Количество = 4\n",
        "#\n",
        "# Введите 1-е число: 0\n",
        "# Сумма = 0\n",
        "# Количество = 0\n",
        "\n"
      ],
      "metadata": {
        "id": "xCdNZEu3G4gA",
        "colab": {
          "base_uri": "https://localhost:8080/"
        },
        "outputId": "7929b39c-d2c0-48d8-c925-f5ef66e2319a"
      },
      "execution_count": null,
      "outputs": [
        {
          "output_type": "stream",
          "name": "stdout",
          "text": [
            "Введите число:0\n",
            "Сумма =  0\n",
            "Количество =  0\n"
          ]
        }
      ]
    },
    {
      "cell_type": "markdown",
      "source": [
        "# 4.2.5. Комбинация циклов и условий\n",
        "\n",
        "# № 4.2.19\n",
        "\n",
        "Выведите на экран (в строку) все целые числа от a до b, кратные некоторому числу c."
      ],
      "metadata": {
        "id": "uI7zHGTcG80k"
      }
    },
    {
      "cell_type": "code",
      "source": [
        "a = int(input('a = ')) # Удалите комментарий и допишите код\n",
        "b = int(input('b = ')) # Удалите комментарий и допишите код\n",
        "c = int(input('c = ')) # Удалите комментарий и допишите код\n",
        "\n",
        "ls = list()\n",
        "for i in range(a, b+1):\n",
        "    if i%c==0:\n",
        "        ls.append(i)\n",
        "\n",
        "print(ls)\n",
        "# Удалите комментарий и допишите код\n",
        "\n",
        "# --------------\n",
        "# Пример вывода:\n",
        "#\n",
        "# a = 1\n",
        "# b = 10\n",
        "# c = 2\n",
        "# 2 4 6 8 10\n",
        "\n"
      ],
      "metadata": {
        "id": "uq27jWydHJ4k",
        "colab": {
          "base_uri": "https://localhost:8080/"
        },
        "outputId": "6c83fdd4-3a73-40ab-9b80-b6420b0a9b19"
      },
      "execution_count": null,
      "outputs": [
        {
          "output_type": "stream",
          "name": "stdout",
          "text": [
            "a = 1\n",
            "b = 10\n",
            "c = 2\n",
            "[2, 4, 6, 8, 10]\n"
          ]
        }
      ]
    },
    {
      "cell_type": "markdown",
      "source": [
        "# № 4.2.20\n",
        "\n",
        "Выведите на экран (в строку) все трехзначные натуральные числа, сумма цифр которых равна целому числу n (0<n≤27)."
      ],
      "metadata": {
        "id": "ZnhonHmjHKHL"
      }
    },
    {
      "cell_type": "code",
      "source": [
        "n = int(input('n = '))\n",
        "\n",
        "ls = list()\n",
        "\n",
        "for i in range(100, 1000):\n",
        "    d = sum(int(e) for e in str(i))\n",
        "    if d==n:\n",
        "      ls.append(i)\n",
        "print(ls)\n",
        "\n",
        "\n",
        "\n",
        "# --------------\n",
        "# Пример вывода:\n",
        "#\n",
        "# n = 3\n",
        "# 102 111 120 201 210 300\n",
        "\n"
      ],
      "metadata": {
        "id": "XH1_bwiBHNpj",
        "colab": {
          "base_uri": "https://localhost:8080/"
        },
        "outputId": "c1ac3a64-9598-4bd2-fd73-cf6700f18e87"
      },
      "execution_count": null,
      "outputs": [
        {
          "output_type": "stream",
          "name": "stdout",
          "text": [
            "n = 3\n",
            "[102, 111, 120, 201, 210, 300]\n"
          ]
        }
      ]
    },
    {
      "cell_type": "markdown",
      "source": [
        "# № 4.2.21\n",
        "\n",
        "Известно количество учеников в классе и их рост (см.); рост мальчиков условно задан отрицательными числами. Определите средний рост мальчиков и средний рост девочек.\n",
        "\n",
        "При выводе вещественных результатов оставьте один знак после запятой."
      ],
      "metadata": {
        "id": "s_oZukNgHOKc"
      }
    },
    {
      "cell_type": "code",
      "source": [
        "n = int(input('n = '))  \n",
        "\n",
        "a = 0\n",
        "m = 0\n",
        "b = 0\n",
        "k = 0\n",
        "\n",
        "for i in range(n):\n",
        "  r = int(input('Рост ученикa = '))\n",
        "  k += 1\n",
        "  if r<0:\n",
        "    a += 1\n",
        "    m -= r\n",
        "  else:\n",
        "    b += r\n",
        "\n",
        "r_sr_d = b / (n - a)\n",
        "r_sr_m = m / a\n",
        "\n",
        "print(\"Средний рост мальчиков: {:.1f}\".format(r_sr_m))\n",
        "print(\"Средний рост девочек: {:.1f}\".format(r_sr_d))\n",
        "\n",
        "\n",
        "\n",
        "\n",
        "\n",
        "# --------------\n",
        "# Пример вывода:\n",
        "#\n",
        "# n = 5\n",
        "# Рост 1-го ученика = 150\n",
        "# Рост 2-го ученика = -150\n",
        "# Рост 3-го ученика = 160\n",
        "# Рост 4-го ученика = 170\n",
        "# Рост 5-го ученика = 180\n",
        "# Средний рост мальчиков: 150.0\n",
        "# Средний рост девочек: 165.0\n",
        "\n"
      ],
      "metadata": {
        "id": "jClNsQ4QHSHv",
        "colab": {
          "base_uri": "https://localhost:8080/"
        },
        "outputId": "bd6026bc-2675-4b67-a4ae-55a6998a40f9"
      },
      "execution_count": null,
      "outputs": [
        {
          "output_type": "stream",
          "name": "stdout",
          "text": [
            "n = 5\n",
            "Рост ученикa = 150\n",
            "Рост ученикa = -150\n",
            "Рост ученикa = 160\n",
            "Рост ученикa = 170\n",
            "Рост ученикa = 180\n",
            "Средний рост мальчиков: 150.0\n",
            "Средний рост девочек: 165.0\n"
          ]
        }
      ]
    },
    {
      "cell_type": "markdown",
      "source": [
        "# № 4.2.22\n",
        "\n",
        "Даны n вещественных чисел. Определите максимальное и минимальное из них.\n",
        "\n",
        "При выводе вещественных результатов оставьте два знака после запятой."
      ],
      "metadata": {
        "id": "i_n0oI5cHScg"
      }
    },
    {
      "cell_type": "code",
      "source": [
        "n = int(input('n = ')) \n",
        "a = float(input())\n",
        "a_min=a_max=a\n",
        "m = 1\n",
        "while m<=n:\n",
        "  l = float(input(str(m)+\"-е число = \"))\n",
        "  m+=1\n",
        "  if l<=a_max and l>a_min:\n",
        "    a_max = l\n",
        "  if l<a_max and l<a_min:\n",
        "    a_min = l\n",
        "\n",
        "\n",
        "         \n",
        "\n",
        "print(\"Максимум: {:.2f}\".format(a_max))\n",
        "print(\"Минимум: {:.2f}\".format(a_min))\n",
        "\n",
        "# --------------\n",
        "# Пример вывода:\n",
        "#\n",
        "# n = 4\n",
        "# 1-е число = 6.2\n",
        "# 2-е число = 3.8\n",
        "# 3-е число = 1.1\n",
        "# 4-е число = 9.66\n",
        "# Максимум: 9.66\n",
        "# Минимум: 1.10\n",
        "\n"
      ],
      "metadata": {
        "id": "KgYM98s8HW57",
        "colab": {
          "base_uri": "https://localhost:8080/"
        },
        "outputId": "9d3790b2-47c6-4e3b-861a-71b0f0f6dd43"
      },
      "execution_count": null,
      "outputs": [
        {
          "output_type": "stream",
          "name": "stdout",
          "text": [
            "n = 4\n",
            "11\n",
            "1-е число = 6.2\n",
            "2-е число = 3.8\n",
            "3-е число = 1.1\n",
            "4-е число = 9.66\n",
            "Максимум: 9.66\n",
            "Минимум: 1.10\n"
          ]
        }
      ]
    }
  ]
}