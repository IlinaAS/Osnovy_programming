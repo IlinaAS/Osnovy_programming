{
  "nbformat": 4,
  "nbformat_minor": 0,
  "metadata": {
    "colab": {
      "provenance": [],
      "authorship_tag": "ABX9TyPBcjL2SGjQD5ATXP2ICM7T",
      "include_colab_link": true
    },
    "kernelspec": {
      "name": "python3",
      "display_name": "Python 3"
    },
    "language_info": {
      "name": "python"
    }
  },
  "cells": [
    {
      "cell_type": "markdown",
      "metadata": {
        "id": "view-in-github",
        "colab_type": "text"
      },
      "source": [
        "<a href=\"https://colab.research.google.com/github/IlinaAS/Osnovy_programming/blob/main/Lab7.ipynb\" target=\"_parent\"><img src=\"https://colab.research.google.com/assets/colab-badge.svg\" alt=\"Open In Colab\"/></a>"
      ]
    },
    {
      "cell_type": "markdown",
      "source": [
        "# Программирование на языке высокого уровня (Python).\n",
        "# https://www.yuripetrov.ru/edu/python\n",
        "\n",
        "# Выполнила: Ильина А.С.\n",
        "# Группа: АДЭУ-221\n"
      ],
      "metadata": {
        "id": "r8T6ElX9M_H2"
      }
    },
    {
      "cell_type": "markdown",
      "source": [
        "# 07.02.01"
      ],
      "metadata": {
        "id": "J98W0Ym1Dvab"
      }
    },
    {
      "cell_type": "code",
      "execution_count": 1,
      "metadata": {
        "id": "L_MZLfgIDsYL"
      },
      "outputs": [],
      "source": [
        "\"\"\"\n",
        "Ошибки (номера строк через пробел, данная строка - №2): 11\n",
        "\"\"\"\n",
        "\n",
        "\n",
        "def sum_of_digits(n):\n",
        "    \"\"\"Вернуть сумму цифр меньших 5 для положительного целого числа `n`.\n",
        "    Если таких цифр нет, вернуть 0.\"\"\"\n",
        "    с = 0\n",
        "    while n > 0:\n",
        "        digit = n % 10\n",
        "        if digit < 5:\n",
        "            c = с + 1\n",
        "        n //= 10\n",
        "    return digit\n"
      ]
    },
    {
      "cell_type": "code",
      "source": [
        "sum_of_digits(11)\n"
      ],
      "metadata": {
        "colab": {
          "base_uri": "https://localhost:8080/"
        },
        "id": "I58vto2-ECZs",
        "outputId": "afe9709c-6a28-4aa0-ff3c-e1643df3a11a"
      },
      "execution_count": 2,
      "outputs": [
        {
          "output_type": "execute_result",
          "data": {
            "text/plain": [
              "1"
            ]
          },
          "metadata": {},
          "execution_count": 2
        }
      ]
    },
    {
      "cell_type": "code",
      "source": [
        "help(sum_of_digits)"
      ],
      "metadata": {
        "colab": {
          "base_uri": "https://localhost:8080/"
        },
        "id": "dlGEX6HuqxqZ",
        "outputId": "e835251f-d843-4c3a-e8f5-2f6b1935a6f3"
      },
      "execution_count": 3,
      "outputs": [
        {
          "output_type": "stream",
          "name": "stdout",
          "text": [
            "Help on function sum_of_digits in module __main__:\n",
            "\n",
            "sum_of_digits(n)\n",
            "    Вернуть сумму цифр меньших 5 для положительного целого числа `n`.\n",
            "    Если таких цифр нет, вернуть 0.\n",
            "\n"
          ]
        }
      ]
    },
    {
      "cell_type": "markdown",
      "source": [
        "# 07.02.02"
      ],
      "metadata": {
        "id": "tWdXo69OEoO8"
      }
    },
    {
      "cell_type": "code",
      "source": [
        "\"\"\"\n",
        "Ошибки (номера строк через пробел, данная строка - №2): 10 11 14\n",
        "\"\"\"\n",
        "\n",
        "\n",
        "def primes(a, b):\n",
        "    \"\"\"Вернуть список простых чисел на отрезке от 'a' до 'b'.\"\"\"\n",
        "    res = []\n",
        "    c = 0\n",
        "    for i in range(a, b+1):\n",
        "        for j in range(i+1):\n",
        "            if i % (j + 1) == 0:\n",
        "                c += 1\n",
        "        if c == 2:\n",
        "            res.append(i)\n",
        "            c = 0\n",
        "        else:\n",
        "          c = 0\n",
        "\n",
        "    return res\n"
      ],
      "metadata": {
        "id": "7zrUVsV8Ep45"
      },
      "execution_count": 4,
      "outputs": []
    },
    {
      "cell_type": "code",
      "source": [
        "primes(11, 13)"
      ],
      "metadata": {
        "colab": {
          "base_uri": "https://localhost:8080/"
        },
        "id": "F0Rt05DDG-6D",
        "outputId": "36b86e4e-e459-477a-e2e4-e912e41638be"
      },
      "execution_count": 5,
      "outputs": [
        {
          "output_type": "execute_result",
          "data": {
            "text/plain": [
              "[11, 13]"
            ]
          },
          "metadata": {},
          "execution_count": 5
        }
      ]
    },
    {
      "cell_type": "code",
      "source": [
        "help(primes)"
      ],
      "metadata": {
        "colab": {
          "base_uri": "https://localhost:8080/"
        },
        "id": "BIk1cAcPqsKD",
        "outputId": "e18a1bd8-fd65-4195-cefe-58d47baea3ad"
      },
      "execution_count": 6,
      "outputs": [
        {
          "output_type": "stream",
          "name": "stdout",
          "text": [
            "Help on function primes in module __main__:\n",
            "\n",
            "primes(a, b)\n",
            "    Вернуть список простых чисел на отрезке от 'a' до 'b'.\n",
            "\n"
          ]
        }
      ]
    },
    {
      "cell_type": "markdown",
      "source": [
        "# 07.02.03"
      ],
      "metadata": {
        "id": "vjDi8tADM6Qe"
      }
    },
    {
      "cell_type": "code",
      "source": [
        "\"\"\"\n",
        "Ошибки (номера строк через пробел, данная строка - №2): 21 23\n",
        "\"\"\"\n",
        "\n",
        "\n",
        "def first_vacant_row(seats):\n",
        "    \"\"\"Вернуть первый ряд, в котором имеется больше всего\n",
        "    свободных мест и их количество.\n",
        "\n",
        "    Возвращаемая нумерация рядов с 1. Если свободных мест нет, вернуть 0, 0.\n",
        "\n",
        "    Параметры:\n",
        "        - seats (list of list): информация о проданных билетах\n",
        "                                (1 - продано, 0 - нет).\n",
        "\n",
        "    Результат:\n",
        "        - tuple (ряд, количество мест).\n",
        "    \"\"\"\n",
        "    max_count = 0\n",
        "    max_row = 0\n",
        "    for row_index, row in enumerate(seats, start=1):\n",
        "        available_seats_count = row.count(0)  # 0 - пусто\n",
        "        if available_seats_count >= max_count:\n",
        "            max_row = row_index + 1\n",
        "            max_count = available_seats_count\n",
        "       \n",
        "    return max_row, max_count\n",
        "\n"
      ],
      "metadata": {
        "id": "xsI8TfvKM6gW"
      },
      "execution_count": 7,
      "outputs": []
    },
    {
      "cell_type": "code",
      "source": [
        "import random\n",
        "\n",
        "random.seed(50)\n",
        "\n",
        "ROWS_MAX = 10\n",
        "SEATS_MAX = 5\n",
        "\n",
        "seats = [[random.randint(0, 1) for seat in range(SEATS_MAX)]\n",
        "                                for row in range(ROWS_MAX)]\n",
        "\n",
        "for seat in seats:\n",
        "    print(seat)\n",
        "\n",
        "print(first_vacant_row(seats))"
      ],
      "metadata": {
        "colab": {
          "base_uri": "https://localhost:8080/"
        },
        "id": "o4MCnwj0_2Qi",
        "outputId": "aed67931-df15-47c8-ad29-e16b30185198"
      },
      "execution_count": 8,
      "outputs": [
        {
          "output_type": "stream",
          "name": "stdout",
          "text": [
            "[1, 1, 1, 0, 1]\n",
            "[1, 0, 1, 0, 0]\n",
            "[0, 1, 0, 1, 1]\n",
            "[0, 0, 0, 1, 1]\n",
            "[0, 0, 1, 1, 0]\n",
            "[0, 1, 1, 1, 0]\n",
            "[0, 1, 1, 1, 0]\n",
            "[1, 0, 0, 1, 0]\n",
            "[1, 1, 0, 1, 1]\n",
            "[0, 1, 0, 0, 1]\n",
            "(11, 3)\n"
          ]
        }
      ]
    },
    {
      "cell_type": "code",
      "source": [
        "help(first_vacant_row)"
      ],
      "metadata": {
        "colab": {
          "base_uri": "https://localhost:8080/"
        },
        "id": "s8_oQ7A7qm4G",
        "outputId": "6658aa4a-9aa6-460a-c4a9-29fb3ae81380"
      },
      "execution_count": 9,
      "outputs": [
        {
          "output_type": "stream",
          "name": "stdout",
          "text": [
            "Help on function first_vacant_row in module __main__:\n",
            "\n",
            "first_vacant_row(seats)\n",
            "    Вернуть первый ряд, в котором имеется больше всего\n",
            "    свободных мест и их количество.\n",
            "    \n",
            "    Возвращаемая нумерация рядов с 1. Если свободных мест нет, вернуть 0, 0.\n",
            "    \n",
            "    Параметры:\n",
            "        - seats (list of list): информация о проданных билетах\n",
            "                                (1 - продано, 0 - нет).\n",
            "    \n",
            "    Результат:\n",
            "        - tuple (ряд, количество мест).\n",
            "\n"
          ]
        }
      ]
    },
    {
      "cell_type": "markdown",
      "source": [
        "# 07.02.04"
      ],
      "metadata": {
        "id": "F75vZANj92Rs"
      }
    },
    {
      "cell_type": "code",
      "source": [
        "\"\"\"\n",
        "Ошибки (номера строк через пробел, данная строка - №2): 8 9 \n",
        "\"\"\"\n",
        "\n",
        "\n",
        "def min_pair(nums):\n",
        "    \"\"\"Вернуть минимальную сумму соседних 2-х чисел в списке 'nums'.\"\"\"\n",
        "    minim_sum = nums[0] + nums[1]\n",
        "    for i in range(1, len(nums)-1):\n",
        "        minim_sum = min(nums[i] + nums[i+1], minim_sum)\n",
        "\n",
        "    return minim_sum\n",
        "\n"
      ],
      "metadata": {
        "id": "BZpNKfpx92i3"
      },
      "execution_count": 10,
      "outputs": []
    },
    {
      "cell_type": "code",
      "source": [
        "import random\n",
        "\n",
        "random.seed(50)\n",
        "\n",
        "N_MAX = 10\n",
        "RANGE_MIN = 1\n",
        "RANGE_MAX = 100\n",
        "nums = random.sample(range(RANGE_MIN, RANGE_MAX), N_MAX)\n",
        "\n",
        "print(nums)\n",
        "\n",
        "print(min_pair(nums))"
      ],
      "metadata": {
        "colab": {
          "base_uri": "https://localhost:8080/"
        },
        "id": "OPNAs6zC-RJQ",
        "outputId": "4af6d545-3ae3-4563-c153-09c6a12fb2d2"
      },
      "execution_count": 11,
      "outputs": [
        {
          "output_type": "stream",
          "name": "stdout",
          "text": [
            "[64, 35, 47, 82, 32, 89, 61, 99, 43, 11]\n",
            "54\n"
          ]
        }
      ]
    },
    {
      "cell_type": "code",
      "source": [
        "help(min_pair)"
      ],
      "metadata": {
        "colab": {
          "base_uri": "https://localhost:8080/"
        },
        "id": "0NJ0e369qgK3",
        "outputId": "6ffa815c-2724-4679-b7a4-f2022d6d7bc3"
      },
      "execution_count": 12,
      "outputs": [
        {
          "output_type": "stream",
          "name": "stdout",
          "text": [
            "Help on function min_pair in module __main__:\n",
            "\n",
            "min_pair(nums)\n",
            "    Вернуть минимальную сумму соседних 2-х чисел в списке 'nums'.\n",
            "\n"
          ]
        }
      ]
    },
    {
      "cell_type": "markdown",
      "source": [
        "# 07.02.05"
      ],
      "metadata": {
        "id": "cQ8UJNjwcuz6"
      }
    },
    {
      "cell_type": "code",
      "source": [
        "\"\"\"\n",
        "Ошибки (номера строк через пробел, данная строка - №2): 13 16\n",
        "\"\"\"\n",
        "\n",
        "\n",
        "def non_negatives(nums):\n",
        "    \"\"\"Удалить из списка чисел 'nums' отрицательные элементы и вернуть\n",
        "    измененный список.\n",
        "    \"\"\"\n",
        "    i = 0\n",
        "    while i < len(nums):\n",
        "        if nums[i] < 0:\n",
        "            del nums[i]\n",
        "        else:\n",
        "            i += 1\n",
        "            \n",
        "    return nums\n",
        "\n",
        "\n",
        "\n"
      ],
      "metadata": {
        "id": "LbeIcGHxcwsi"
      },
      "execution_count": 13,
      "outputs": []
    },
    {
      "cell_type": "code",
      "source": [
        "import random\n",
        "\n",
        "n = 10\n",
        "nums = [round(random.uniform(-10, 10), 2) for i in range(n)]\n",
        "print(nums)\n",
        "\n",
        "try:\n",
        "    print(non_negatives(nums))\n",
        "except ValueError:\n",
        "    print('Что-то пошло не так')\n",
        "finally:\n",
        "    print('')\n",
        "    print('Процесс завершен')"
      ],
      "metadata": {
        "colab": {
          "base_uri": "https://localhost:8080/"
        },
        "id": "zgkoR1Jcc597",
        "outputId": "bc8c7c7b-f094-4bd2-d5d3-2080914ab54d"
      },
      "execution_count": 14,
      "outputs": [
        {
          "output_type": "stream",
          "name": "stdout",
          "text": [
            "[0.77, -5.51, 1.13, 8.61, -3.06, -8.03, -3.05, -5.55, -8.63, 7.29]\n",
            "[0.77, 1.13, 8.61, 7.29]\n",
            "\n",
            "Процесс завершен\n"
          ]
        }
      ]
    },
    {
      "cell_type": "code",
      "source": [
        "help(non_negatives)"
      ],
      "metadata": {
        "colab": {
          "base_uri": "https://localhost:8080/"
        },
        "id": "JxHo8O48qSqd",
        "outputId": "b59e0e9f-bfe2-4620-b138-da10d9d37606"
      },
      "execution_count": 15,
      "outputs": [
        {
          "output_type": "stream",
          "name": "stdout",
          "text": [
            "Help on function non_negatives in module __main__:\n",
            "\n",
            "non_negatives(nums)\n",
            "    Удалить из списка чисел 'nums' отрицательные элементы и вернуть\n",
            "    измененный список.\n",
            "\n"
          ]
        }
      ]
    },
    {
      "cell_type": "markdown",
      "source": [
        "# 07.02.06"
      ],
      "metadata": {
        "id": "BVpB8G7shP-V"
      }
    },
    {
      "cell_type": "code",
      "source": [
        "def unemployment_rate(unemployed, employed):\n",
        "    \"\"\"Вернуть уровень безработицы (УБ) в долях 1.\n",
        "\n",
        "       Расчет по формуле: УБ = Безработные / (Занятые + Безработные).\n",
        "    \"\"\"\n",
        "    return unemployed / (employed + unemployed)\n"
      ],
      "metadata": {
        "id": "GsAgc5pqhSDX"
      },
      "execution_count": 20,
      "outputs": []
    },
    {
      "cell_type": "code",
      "source": [
        "try:\n",
        "  unemployed = int(input(\"Введите кол-во безработных (чел.): \"))\n",
        "  employed = int(input(\"Введите кол-во занятых (чел.): \"))\n",
        "except ValueError:\n",
        "  print('Неверные входные данные. Число не является целым числом')\n",
        "\n",
        "if (unemployed < 0) or (employed < 0):\n",
        "    print('Incorrect input data. Negative numbers.')\n",
        "else:\n",
        "    try:\n",
        "        rate = unemployment_rate(unemployed, employed)\n",
        "        print(\"Уровень безработицы = {:.1%}\".format(rate))\n",
        "    except ZeroDivisionError:\n",
        "        print('Некорекктные входные данные. Деление на 0')\n",
        "        print('Проверьте данные')\n",
        "    finally:\n",
        "        print('')\n",
        "        print('Процесс завершен')\n"
      ],
      "metadata": {
        "id": "2ukW2rUyr_X-",
        "colab": {
          "base_uri": "https://localhost:8080/"
        },
        "outputId": "78f6b341-8680-4c8e-f32f-dd59b3d7b22b"
      },
      "execution_count": 21,
      "outputs": [
        {
          "output_type": "stream",
          "name": "stdout",
          "text": [
            "Введите кол-во безработных (чел.): 2\n",
            "Введите кол-во занятых (чел.): 3\n",
            "Уровень безработицы = 40.0%\n",
            "\n",
            "Процесс завершен\n"
          ]
        }
      ]
    },
    {
      "cell_type": "code",
      "source": [
        "help(unemployment_rate)"
      ],
      "metadata": {
        "colab": {
          "base_uri": "https://localhost:8080/"
        },
        "id": "DQ3czJXxqNWz",
        "outputId": "0bba0796-6468-41f5-ecef-f9bf609a1c06"
      },
      "execution_count": 22,
      "outputs": [
        {
          "output_type": "stream",
          "name": "stdout",
          "text": [
            "Help on function unemployment_rate in module __main__:\n",
            "\n",
            "unemployment_rate(unemployed, employed)\n",
            "    Вернуть уровень безработицы (УБ) в долях 1.\n",
            "    \n",
            "    Расчет по формуле: УБ = Безработные / (Занятые + Безработные).\n",
            "\n"
          ]
        }
      ]
    },
    {
      "cell_type": "markdown",
      "source": [
        "# 07.02.07"
      ],
      "metadata": {
        "id": "IQMdzVaFiHD-"
      }
    },
    {
      "cell_type": "code",
      "source": [
        "def power(x, y=2):\n",
        "    \"\"\"Вернуть x^y.\"\"\"\n",
        "    if y == 0:\n",
        "        return 1\n",
        "    else:\n",
        "        return x * power(x, y - 1)\n"
      ],
      "metadata": {
        "id": "fv762T8RiHUd"
      },
      "execution_count": 23,
      "outputs": []
    },
    {
      "cell_type": "code",
      "source": [
        "try:\n",
        "  x = int(input(\"x=\"))\n",
        "  y = int(input(\"y=\"))\n",
        "  print(f'Result: {power(x, y)}')\n",
        "except Exception as err:\n",
        "  print(f'Error. Code: {type(err)}')\n",
        "  print(f'Описание: {err}')"
      ],
      "metadata": {
        "id": "8II8DQIGtH_2",
        "colab": {
          "base_uri": "https://localhost:8080/"
        },
        "outputId": "626e0ee2-8e7f-4d44-f11f-9c242b0900bd"
      },
      "execution_count": 24,
      "outputs": [
        {
          "output_type": "stream",
          "name": "stdout",
          "text": [
            "x=2\n",
            "y=3\n",
            "Result: 8\n"
          ]
        }
      ]
    },
    {
      "cell_type": "code",
      "source": [
        "help(power)"
      ],
      "metadata": {
        "colab": {
          "base_uri": "https://localhost:8080/"
        },
        "id": "BDuC8JxFqHwb",
        "outputId": "08d579e7-d118-4589-c967-d4021da18fed"
      },
      "execution_count": 25,
      "outputs": [
        {
          "output_type": "stream",
          "name": "stdout",
          "text": [
            "Help on function power in module __main__:\n",
            "\n",
            "power(x, y=2)\n",
            "    Вернуть x^y.\n",
            "\n"
          ]
        }
      ]
    },
    {
      "cell_type": "markdown",
      "source": [
        "# 07.02.09"
      ],
      "metadata": {
        "id": "q7QjZI9sySTX"
      }
    },
    {
      "cell_type": "code",
      "source": [
        "\n",
        "\n",
        "def f(x):\n",
        "    \"\"\"Вернуть значение функции.\n",
        "\n",
        "    Функция не обрабатывает исключения.\n",
        "    \"\"\"\n",
        "    return (x**2 / (x + 2)) - 3\n",
        "\n"
      ],
      "metadata": {
        "id": "PJzOoau9ySlw"
      },
      "execution_count": 26,
      "outputs": []
    },
    {
      "cell_type": "code",
      "source": [
        "k = int(input(\"Введите границу интервала [-k; k]: \"))\n",
        "h = float(input(\"Введите шаг табуляции: \"))\n",
        "\n",
        "x = -k\n",
        "print(\"{:>10} {:>10}\".format(\"x\", \"f(x)\"))\n",
        "while x <= k:\n",
        "    # Если во время вычисления функции возникнет ошибка,\n",
        "    # при выводе необходимо указать прочерк \"-\"\n",
        "    # Данный случай должен обрабатывать второй вложенный блок try\n",
        "  \n",
        "    try:\n",
        "      print(\"{:10.2f} {:10.2f}\".format(x, f(x)))\n",
        "    except:\n",
        "      print(\"{:10.2f} {:>10s}\".format(x, '-'))\n",
        "\n",
        "    x += h\n",
        "\n",
        "# --------------\n",
        "# Пример вывода:\n",
        "#\n",
        "# Введите границу интервала [-k; k]: 5\n",
        "# Введите шаг табуляции: 0.5\n",
        "#          x       f(x)\n",
        "#      -5.00     -11.33\n",
        "#      -4.50     -11.10\n",
        "#      -4.00     -11.00\n",
        "#      -3.50     -11.17\n",
        "#      -3.00     -12.00\n",
        "#      -2.50     -15.50\n",
        "#      -2.00          -\n",
        "#      -1.50       1.50\n",
        "#      -1.00      -2.00\n",
        "#      -0.50      -2.83\n",
        "#       0.00      -3.00\n",
        "#       0.50      -2.90\n",
        "#       1.00      -2.67\n",
        "#       1.50      -2.36\n",
        "#       2.00      -2.00\n",
        "#       2.50      -1.61\n",
        "#       3.00      -1.20\n",
        "#       3.50      -0.77\n",
        "#       4.00      -0.33\n",
        "#       4.50       0.12\n",
        "#       5.00       0.57"
      ],
      "metadata": {
        "id": "p5yTfFxrt33k",
        "colab": {
          "base_uri": "https://localhost:8080/"
        },
        "outputId": "9a07d868-f75d-4cba-de9d-d7165e065875"
      },
      "execution_count": 27,
      "outputs": [
        {
          "output_type": "stream",
          "name": "stdout",
          "text": [
            "Введите границу интервала [-k; k]: 3\n",
            "Введите шаг табуляции: 2\n",
            "         x       f(x)\n",
            "     -3.00     -12.00\n",
            "     -1.00      -2.00\n",
            "      1.00      -2.67\n",
            "      3.00      -1.20\n"
          ]
        }
      ]
    },
    {
      "cell_type": "code",
      "source": [
        "help(f)"
      ],
      "metadata": {
        "colab": {
          "base_uri": "https://localhost:8080/"
        },
        "id": "at0qsV9wzRhI",
        "outputId": "d7379be5-d4be-40ff-deca-f9ec06a406e6"
      },
      "execution_count": 28,
      "outputs": [
        {
          "output_type": "stream",
          "name": "stdout",
          "text": [
            "Help on function f in module __main__:\n",
            "\n",
            "f(x)\n",
            "    Вернуть значение функции.\n",
            "    \n",
            "    Функция не обрабатывает исключения.\n",
            "\n"
          ]
        }
      ]
    }
  ]
}