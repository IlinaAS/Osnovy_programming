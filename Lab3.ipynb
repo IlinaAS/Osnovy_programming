{
  "nbformat": 4,
  "nbformat_minor": 0,
  "metadata": {
    "colab": {
      "provenance": [],
      "authorship_tag": "ABX9TyMBnK8lGa5Q6I2jGaJihtcC",
      "include_colab_link": true
    },
    "kernelspec": {
      "name": "python3",
      "display_name": "Python 3"
    },
    "language_info": {
      "name": "python"
    }
  },
  "cells": [
    {
      "cell_type": "markdown",
      "metadata": {
        "id": "view-in-github",
        "colab_type": "text"
      },
      "source": [
        "<a href=\"https://colab.research.google.com/github/IlinaAS/Osnovy_programming/blob/main/Lab3.ipynb\" target=\"_parent\"><img src=\"https://colab.research.google.com/assets/colab-badge.svg\" alt=\"Open In Colab\"/></a>"
      ]
    },
    {
      "cell_type": "markdown",
      "source": [
        "# Упражнения для самостоятельного выполнения по теме «Инкапсуляция»\n",
        "Каждый разрабатываемый класс должен, как правило, содержать\n",
        "следующие элементы: скрытые поля, конструкторы с параметрами и без\n",
        "параметров, методы, свойства. Методы и свойства должны обеспечивать\n",
        "непротиворечивый, полный, минимальный и удобный интерфейс класса. При\n",
        "возникновении ошибок должны выбрасываться исключения. В программе\n",
        "должна выполняться проверка всех разработанных элементов класса.\n"
      ],
      "metadata": {
        "id": "4XLv9a0C5qsV"
      }
    },
    {
      "cell_type": "markdown",
      "source": [
        "Вариант №9\n",
        "Составить описание класса для представления времени. Предусмотреть\n",
        "возможности установки времени и изменения его отдельных полей (час, минута,\n",
        "секунда) с проверкой допустимости вводимых значений. В случае недопустимых\n",
        "значений полей выбрасываются исключения. Создать методы изменения\n",
        "времени на заданное количество часов, минут и секунд.\n",
        "Написать программу, демонстрирующую все разработанные элементы\n",
        "класса.\n"
      ],
      "metadata": {
        "id": "IECWd77H5foG"
      }
    },
    {
      "cell_type": "code",
      "source": [
        "class Time:\n",
        "    def __init__(self, hour=0, minute=0, second=0):\n",
        "        self.__hour = hour\n",
        "        self.__minute = minute\n",
        "        self.__second = second\n",
        "\n",
        "    @property\n",
        "    def hour(self):\n",
        "        return self.__hour\n",
        "\n",
        "    @hour.setter\n",
        "    def hour(self, value):\n",
        "        if value < 0 or value > 23:\n",
        "            raise ValueError(\"Недопустимое значение часов\")\n",
        "        self.__hour = value\n",
        "\n",
        "    @property\n",
        "    def minute(self):\n",
        "        return self.__minute\n",
        "\n",
        "    @minute.setter\n",
        "    def minute(self, value):\n",
        "        if value < 0 or value > 59:\n",
        "            raise ValueError(\"Недопустимое значение минут\")\n",
        "        self.__minute = value\n",
        "\n",
        "    @property\n",
        "    def second(self):\n",
        "        return self.__second\n",
        "\n",
        "    @second.setter\n",
        "    def second(self, value):\n",
        "        if value < 0 or value > 59:\n",
        "            raise ValueError(\"Недопустимое значение секунд\")\n",
        "        self.__second = value\n",
        "\n",
        "    def add_hours(self, value):\n",
        "        self.__hour += value\n",
        "        if self.__hour > 23:\n",
        "            self.__hour -= 24\n",
        "\n",
        "    def add_minutes(self, value):\n",
        "        self.__minute += value\n",
        "        if self.__minute > 59:\n",
        "            self.add_hours(self.__minute // 60)\n",
        "            self.__minute %= 60\n",
        "\n",
        "    def add_seconds(self, value):\n",
        "        self.__second += value\n",
        "        if self.__second > 59:\n",
        "            self.add_minutes(self.__second // 60)\n",
        "            self.__second %= 60\n",
        "\n",
        "    def __str__(self):\n",
        "        return f\"Текущее время: {self.__hour:02d}:{self.__minute:02d}:{self.__second:02d}\"\n",
        "\n",
        "\n",
        "try:\n",
        "    t = Time(hour=10, minute=45, second=20)\n",
        "    print(t)\n",
        "\n",
        "    t.hour = 23\n",
        "    t.minute = 59\n",
        "    t.second = 55\n",
        "    print(t)\n",
        "\n",
        "    t.add_hours(2)\n",
        "    t.add_minutes(11)\n",
        "    t.add_seconds(10)\n",
        "    print(t)\n",
        "\n",
        "    t.hour = 25  # Вызов исключения\n",
        "except ValueError as e:\n",
        "    print(f\"Ошибка: {e}\")"
      ],
      "metadata": {
        "colab": {
          "base_uri": "https://localhost:8080/"
        },
        "id": "7pkGEyb-7Neb",
        "outputId": "8c6d9df1-9260-4381-f602-db08dfc7e7e3"
      },
      "execution_count": 6,
      "outputs": [
        {
          "output_type": "stream",
          "name": "stdout",
          "text": [
            "Текущее время: 10:45:20\n",
            "Текущее время: 23:59:55\n",
            "Текущее время: 02:11:05\n",
            "Ошибка: Недопустимое значение часов\n"
          ]
        }
      ]
    }
  ]
}