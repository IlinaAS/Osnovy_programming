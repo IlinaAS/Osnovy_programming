{
  "nbformat": 4,
  "nbformat_minor": 0,
  "metadata": {
    "colab": {
      "provenance": [],
      "authorship_tag": "ABX9TyMHnWstAcTepV5P1nbJ7JPY",
      "include_colab_link": true
    },
    "kernelspec": {
      "name": "python3",
      "display_name": "Python 3"
    },
    "language_info": {
      "name": "python"
    }
  },
  "cells": [
    {
      "cell_type": "markdown",
      "metadata": {
        "id": "view-in-github",
        "colab_type": "text"
      },
      "source": [
        "<a href=\"https://colab.research.google.com/github/IlinaAS/Osnovy_programming/blob/main/Lab3.ipynb\" target=\"_parent\"><img src=\"https://colab.research.google.com/assets/colab-badge.svg\" alt=\"Open In Colab\"/></a>"
      ]
    },
    {
      "cell_type": "markdown",
      "source": [
        "# 3.2.1. Числа\n",
        "\n",
        "№ 3.2.1\n",
        "\n",
        "Составьте программу, которая запрашивает у пользователя 2 целых числа и выполняет операции:\n",
        "\n",
        "арифметические: +, -, * , / , // , %, **;\n",
        "\n",
        "сравнение: <, <=, >, >=, !=, ==,\n",
        "\n",
        "выводя на экран результат каждого действия. В случае получение вещественного результата, округлите его до 2-х знаков после запятой (используя функцию round())."
      ],
      "metadata": {
        "id": "YUJF7STG6_lB"
      }
    },
    {
      "cell_type": "code",
      "source": [
        "\n",
        "a = int(input(\"a=\"))\n",
        "b = int(input(\"b=\"))# Удалите комментарий и допишите код\n",
        "\n",
        "print(a + b)\n",
        "print(a - b)# Удалите комментарий и допишите код)\n",
        "print(a * b)# Удалите комментарий и допишите код для прочих операций\n",
        "print(round(a / b, 2))\n",
        "print(a // b)\n",
        "print(a % b)\n",
        "print(a ** b)\n",
        "\n",
        "print(a < b)\n",
        "print(a <= b)# Удалите комментарий и допишите код)\n",
        "print(a > b)# Удалите комментарий и допишите код для прочих операций\n",
        "print(a >= b)\n",
        "print(a != b)\n",
        "print(a == b)\n",
        "\n",
        "\n",
        "# --------------\n",
        "# Пример вывода:\n",
        "#\n",
        "# a=2\n",
        "# b=3\n",
        "# 5\n",
        "# -1\n",
        "# 6\n",
        "# 0.67\n",
        "# 0\n",
        "# 2\n",
        "# 8\n",
        "# True\n",
        "# True\n",
        "# False\n",
        "# False\n",
        "# True\n",
        "# False\n",
        "\n"
      ],
      "metadata": {
        "colab": {
          "base_uri": "https://localhost:8080/"
        },
        "id": "wC3PbpZX7Cc_",
        "outputId": "fe5e96b2-5c2d-4754-b2f4-63e50ce05225"
      },
      "execution_count": null,
      "outputs": [
        {
          "output_type": "stream",
          "name": "stdout",
          "text": [
            "a=2\n",
            "b=3\n",
            "5\n",
            "-1\n",
            "6\n",
            "0.67\n",
            "0\n",
            "2\n",
            "8\n",
            "True\n",
            "True\n",
            "False\n",
            "False\n",
            "True\n",
            "False\n"
          ]
        }
      ]
    },
    {
      "cell_type": "markdown",
      "source": [
        "# № 3.2.2\n",
        "\n",
        "Вычислите значение следующего выражения (аргументы - целые числа и вводятся с клавиатуры):\n",
        "\n",
        "![Снимок.JPG](data:image/jpeg;base64,/9j/4AAQSkZJRgABAQEAeAB4AAD/4RDiRXhpZgAATU0AKgAAAAgABAE7AAIAAAALAAAISodpAAQAAAABAAAIVpydAAEAAAAMAAAQzuocAAcAAAgMAAAAPgAAAAAc6gAAAAgAAAAAAAAAAAAAAAAAAAAAAAAAAAAAAAAAAAAAAAAAAAAAAAAAAAAAAAAAAAAAAAAAAAAAAAAAAAAAAAAAAAAAAAAAAAAAAAAAAAAAAAAAAAAAAAAAAAAAAAAAAAAAAAAAAAAAAAAAAAAAAAAAAAAAAAAAAAAAAAAAAAAAAAAAAAAAAAAAAAAAAAAAAAAAAAAAAAAAAAAAAAAAAAAAAAAAAAAAAAAAAAAAAAAAAAAAAAAAAAAAAAAAAAAAAAAAAAAAAAAAAAAAAAAAAAAAAAAAAAAAAAAAAAAAAAAAAAAAAAAAAAAAAAAAAAAAAAAAAAAAAAAAAAAAAAAAAAAAAAAAAAAAAAAAAAAAAAAAAAAAAAAAAAAAAAAAAAAAAAAAAAAAAAAAAAAAAAAAAAAAAAAAAAAAAAAAAAAAAAAAAAAAAAAAAAAAAAAAAAAAAAAAAAAAAAAAAAAAAAAAAAAAAAAAAAAAAAAAAAAAAAAAAAAAAAAAAAAAAAAAAAAAAAAAAAAAAAAAAAAAAAAAAAAAAAAAAAAAAAAAAAAAAAAAAAAAAAAAAAAAAAAAAAAAAAAAAAAAAAAAAAAAAAAAAAAAAAAAAAAAAAAAAAAAAAAAAAAAAAAAAAAAAAAAAAAAAAAAAAAAAAAAAAAAAAAAAAAAAAAAAAAAAAAAAAAAAAAAAAAAAAAAAAAAAAAAAAAAAAAAAAAAAAAAAAAAAAAAAAAAAAAAAAAAAAAAAAAAAAAAAAAAAAAAAAAAAAAAAAAAAAAAAAAAAAAAAAAAAAAAAAAAAAAAAAAAAAAAAAAAAAAAAAAAAAAAAAAAAAAAAAAAAAAAAAAAAAAAAAAAAAAAAAAAAAAAAAAAAAAAAAAAAAAAAAAAAAAAAAAAAAAAAAAAAAAAAAAAAAAAAAAAAAAAAAAAAAAAAAAAAAAAAAAAAAAAAAAAAAAAAAAAAAAAAAAAAAAAAAAAAAAAAAAAAAAAAAAAAAAAAAAAAAAAAAAAAAAAAAAAAAAAAAAAAAAAAAAAAAAAAAAAAAAAAAAAAAAAAAAAAAAAAAAAAAAAAAAAAAAAAAAAAAAAAAAAAAAAAAAAAAAAAAAAAAAAAAAAAAAAAAAAAAAAAAAAAAAAAAAAAAAAAAAAAAAAAAAAAAAAAAAAAAAAAAAAAAAAAAAAAAAAAAAAAAAAAAAAAAAAAAAAAAAAAAAAAAAAAAAAAAAAAAAAAAAAAAAAAAAAAAAAAAAAAAAAAAAAAAAAAAAAAAAAAAAAAAAAAAAAAAAAAAAAAAAAAAAAAAAAAAAAAAAAAAAAAAAAAAAAAAAAAAAAAAAAAAAAAAAAAAAAAAAAAAAAAAAAAAAAAAAAAAAAAAAAAAAAAAAAAAAAAAAAAAAAAAAAAAAAAAAAAAAAAAAAAAAAAAAAAAAAAAAAAAAAAAAAAAAAAAAAAAAAAAAAAAAAAAAAAAAAAAAAAAAAAAAAAAAAAAAAAAAAAAAAAAAAAAAAAAAAAAAAAAAAAAAAAAAAAAAAAAAAAAAAAAAAAAAAAAAAAAAAAAAAAAAAAAAAAAAAAAAAAAAAAAAAAAAAAAAAAAAAAAAAAAAAAAAAAAAAAAAAAAAAAAAAAAAAAAAAAAAAAAAAAAAAAAAAAAAAAAAAAAAAAAAAAAAAAAAAAAAAAAAAAAAAAAAAAAAAAAAAAAAAAAAAAAAAAAAAAAAAAAAAAAAAAAAAAAAAAAAAAAAAAAAAAAAAAAAAAAAAAAAAAAAAAAAAAAAAAAAAAAAAAAAAAAAAAAAAAAAAAAAAAAAAAAAAAAAAAAAAAAAAAAAAAAAAAAAAAAAAAAAAAAAAAAAAAAAAAAAAAAAAAAAAAAAAAAAAAAAAAAAAAAAAAAAAAAAAAAAAAAAAAAAAAAAAAAAAAAAAAAAAAAAAAAAAAAAAAAAAAAAAAAAAAAAAAAAAAAAAAAAAAAAAAAAAAAAAAAAAAAAAAAAAAAAAAAAAAAAAAAAAAAAAAAAAAAAAAAAAAAAAAAAAAAAAAAAAAAAAAAAAAAAAAAAAAAAAAAAAAAAAAAAAAAAAAAAAAAAAAAAAAAAAAAAAAAAAAAAAAAAAAAAAAAAAAAAAAAAAAAAAAAAAAAAAAAAAAAAAAAAAAAAAAAAAAAAAAAAAAAAAAAAAAAAAAAAAAAAAAAAAAAAAAAAAAAAAAAAAAAAAAAAAAAAAAAAAAAAAAAAAAAAAAAAAAAAAAAAAAAAAAAAAAAAAAAAAAAAAAAAAAAAAAAAAAAAAAAAAAAAAAAAAAAAAAAAAAAAAAAAAAAAAAAAAAAAAAAAAAAAAAAAAAAAAAAAAAAAAAAAAAAAAAAAAAAAAAAAAAAAAAAAAAAAAAAAAAAAAAAAAAAAAAAAAAAAAAAAAAAAAAAAAAAAAAAAAAAAAAAAAAAAAAAAAAAAAAAAAAAAAAAAAAAAAAAAAAAAAAAAAAAAAAAAAAAAAAAAAAAAAAAAAAAAAAAAAAAAAAAAAAAAAAAAAAAAAAAAAAAAAAAAAAAAAAAAAAAAAAAAAAAAAAAAAAAAAAAAAAAAAAAAAAAAAAAAAAAAAAAAAAAAAAAAAAAAAAAAAAAAAAAAAAAAAAAAAAAAAAAAAAAAAAAAAAAAAAAAAAAAAAAAAAAAAAAAAAAAAAAAAAAAAAAAAAAAAAAAAAAAAAAAAAAAAAAAAAAAAAAAAAAAAAAAAAAAAAAAAAAAAAAAAAAAAAAAAAAAAAAAAAAAAAAAAAAAAAAAAAAAAAAAAANCQ0LvQuNC90LAAAAAFkAMAAgAAABQAABCkkAQAAgAAABQAABC4kpEAAgAAAAMzMgAAkpIAAgAAAAMzMgAA6hwABwAACAwAAAiYAAAAABzqAAAACAAAAAAAAAAAAAAAAAAAAAAAAAAAAAAAAAAAAAAAAAAAAAAAAAAAAAAAAAAAAAAAAAAAAAAAAAAAAAAAAAAAAAAAAAAAAAAAAAAAAAAAAAAAAAAAAAAAAAAAAAAAAAAAAAAAAAAAAAAAAAAAAAAAAAAAAAAAAAAAAAAAAAAAAAAAAAAAAAAAAAAAAAAAAAAAAAAAAAAAAAAAAAAAAAAAAAAAAAAAAAAAAAAAAAAAAAAAAAAAAAAAAAAAAAAAAAAAAAAAAAAAAAAAAAAAAAAAAAAAAAAAAAAAAAAAAAAAAAAAAAAAAAAAAAAAAAAAAAAAAAAAAAAAAAAAAAAAAAAAAAAAAAAAAAAAAAAAAAAAAAAAAAAAAAAAAAAAAAAAAAAAAAAAAAAAAAAAAAAAAAAAAAAAAAAAAAAAAAAAAAAAAAAAAAAAAAAAAAAAAAAAAAAAAAAAAAAAAAAAAAAAAAAAAAAAAAAAAAAAAAAAAAAAAAAAAAAAAAAAAAAAAAAAAAAAAAAAAAAAAAAAAAAAAAAAAAAAAAAAAAAAAAAAAAAAAAAAAAAAAAAAAAAAAAAAAAAAAAAAAAAAAAAAAAAAAAAAAAAAAAAAAAAAAAAAAAAAAAAAAAAAAAAAAAAAAAAAAAAAAAAAAAAAAAAAAAAAAAAAAAAAAAAAAAAAAAAAAAAAAAAAAAAAAAAAAAAAAAAAAAAAAAAAAAAAAAAAAAAAAAAAAAAAAAAAAAAAAAAAAAAAAAAAAAAAAAAAAAAAAAAAAAAAAAAAAAAAAAAAAAAAAAAAAAAAAAAAAAAAAAAAAAAAAAAAAAAAAAAAAAAAAAAAAAAAAAAAAAAAAAAAAAAAAAAAAAAAAAAAAAAAAAAAAAAAAAAAAAAAAAAAAAAAAAAAAAAAAAAAAAAAAAAAAAAAAAAAAAAAAAAAAAAAAAAAAAAAAAAAAAAAAAAAAAAAAAAAAAAAAAAAAAAAAAAAAAAAAAAAAAAAAAAAAAAAAAAAAAAAAAAAAAAAAAAAAAAAAAAAAAAAAAAAAAAAAAAAAAAAAAAAAAAAAAAAAAAAAAAAAAAAAAAAAAAAAAAAAAAAAAAAAAAAAAAAAAAAAAAAAAAAAAAAAAAAAAAAAAAAAAAAAAAAAAAAAAAAAAAAAAAAAAAAAAAAAAAAAAAAAAAAAAAAAAAAAAAAAAAAAAAAAAAAAAAAAAAAAAAAAAAAAAAAAAAAAAAAAAAAAAAAAAAAAAAAAAAAAAAAAAAAAAAAAAAAAAAAAAAAAAAAAAAAAAAAAAAAAAAAAAAAAAAAAAAAAAAAAAAAAAAAAAAAAAAAAAAAAAAAAAAAAAAAAAAAAAAAAAAAAAAAAAAAAAAAAAAAAAAAAAAAAAAAAAAAAAAAAAAAAAAAAAAAAAAAAAAAAAAAAAAAAAAAAAAAAAAAAAAAAAAAAAAAAAAAAAAAAAAAAAAAAAAAAAAAAAAAAAAAAAAAAAAAAAAAAAAAAAAAAAAAAAAAAAAAAAAAAAAAAAAAAAAAAAAAAAAAAAAAAAAAAAAAAAAAAAAAAAAAAAAAAAAAAAAAAAAAAAAAAAAAAAAAAAAAAAAAAAAAAAAAAAAAAAAAAAAAAAAAAAAAAAAAAAAAAAAAAAAAAAAAAAAAAAAAAAAAAAAAAAAAAAAAAAAAAAAAAAAAAAAAAAAAAAAAAAAAAAAAAAAAAAAAAAAAAAAAAAAAAAAAAAAAAAAAAAAAAAAAAAAAAAAAAAAAAAAAAAAAAAAAAAAAAAAAAAAAAAAAAAAAAAAAAAAAAAAAAAAAAAAAAAAAAAAAAAAAAAAAAAAAAAAAAAAAAAAAAAAAAAAAAAAAAAAAAAAAAAAAAAAAAAAAAAAAAAAAAAAAAAAAAAAAAAAAAAAAAAAAAAAAAAAAAAAAAAAAAAAAAAAAAAAAAAAAAAAAAAAAAAAAAAAAAAAAAAAAAAAAAAAAAAAAAAAAAAAAAAAAAAAAAAAAAAAAAAAAAAAAAAAAAAAAAAAAAAAAAAAAAAAAAAAAAAAAAAAAAAAAAAAAAAAAAAAAAAAAAAAAAAAAAAAAAAAAAAAAAAAAAAAAAAAAAAAAAAAAAAAAAAAAAAAAAAAAAAAAAAAAAAAAAAAAAAAAAAAAAAAAAAAAAAAAAAAAAAAAAAAAAAAAAAAAAAAAAAAAAAAAAAAAAAAAAAAAAAAAAAAAAAAAAAAAAAAAAAAAAAAAAAAAAAAAAAAAAAAAAAAAAAAAAAAAAAAAAAAAAAAAAAAAAAAAAAAAAAAAAAAAAAAAAAAAAAAAAAAAAAAAAAAAAAAAAAAAAAAAAAAAAAAAAAAAAAAAAAAAAAAAAAAAAAAAAAAAAAAAAAAAAAAAAAAAAAAAAAAAAAAAAAAAAAAAAAAAAAAAAAAAAAAAAAAAAAAAAAAAAAAAAAAAAAAAAAAAAAAAAAAAAAAAAAAAAAAAAAAAAAAAAAAAAAAAAAAAAAAAAAAAAAAAAAAAAAAAAAAAAAAAAAAAAAAAAAAAAAAAAAAAAAAAAAAAAAAAAAAAAAAAAAAAAAAAAAAAAAAAAAAAAAAAAAAAAAAAAAAAAAAAAAAAAAAAAAAAAAAAAAAAAAAAAAAAAAAAAAAAAAAAAAAAAAAAAAAAAAAAAAAAAAAAAAAAAAAAAAAAAAAAAAAAAAAAAAAAAAAAAAAAAAAAAAAAAAAAAAAAAAAAAAAAAAAAAAAAAAAAAAAAAAAAAAAAAAAAAAAAAAAAAAAAAAAAAAAAAAAAAAAAMjAyMjowOTowOSAxNTowNDoxMwAyMDIyOjA5OjA5IDE1OjA0OjEzAAAAEAQ7BDgEPQQwBAAA/+ELHWh0dHA6Ly9ucy5hZG9iZS5jb20veGFwLzEuMC8APD94cGFja2V0IGJlZ2luPSfvu78nIGlkPSdXNU0wTXBDZWhpSHpyZVN6TlRjemtjOWQnPz4NCjx4OnhtcG1ldGEgeG1sbnM6eD0iYWRvYmU6bnM6bWV0YS8iPjxyZGY6UkRGIHhtbG5zOnJkZj0iaHR0cDovL3d3dy53My5vcmcvMTk5OS8wMi8yMi1yZGYtc3ludGF4LW5zIyI+PHJkZjpEZXNjcmlwdGlvbiByZGY6YWJvdXQ9InV1aWQ6ZmFmNWJkZDUtYmEzZC0xMWRhLWFkMzEtZDMzZDc1MTgyZjFiIiB4bWxuczpkYz0iaHR0cDovL3B1cmwub3JnL2RjL2VsZW1lbnRzLzEuMS8iLz48cmRmOkRlc2NyaXB0aW9uIHJkZjphYm91dD0idXVpZDpmYWY1YmRkNS1iYTNkLTExZGEtYWQzMS1kMzNkNzUxODJmMWIiIHhtbG5zOnhtcD0iaHR0cDovL25zLmFkb2JlLmNvbS94YXAvMS4wLyI+PHhtcDpDcmVhdGVEYXRlPjIwMjItMDktMDlUMTU6MDQ6MTMuMzI0PC94bXA6Q3JlYXRlRGF0ZT48L3JkZjpEZXNjcmlwdGlvbj48cmRmOkRlc2NyaXB0aW9uIHJkZjphYm91dD0idXVpZDpmYWY1YmRkNS1iYTNkLTExZGEtYWQzMS1kMzNkNzUxODJmMWIiIHhtbG5zOmRjPSJodHRwOi8vcHVybC5vcmcvZGMvZWxlbWVudHMvMS4xLyI+PGRjOmNyZWF0b3I+PHJkZjpTZXEgeG1sbnM6cmRmPSJodHRwOi8vd3d3LnczLm9yZy8xOTk5LzAyLzIyLXJkZi1zeW50YXgtbnMjIj48cmRmOmxpPtCQ0LvQuNC90LA8L3JkZjpsaT48L3JkZjpTZXE+DQoJCQk8L2RjOmNyZWF0b3I+PC9yZGY6RGVzY3JpcHRpb24+PC9yZGY6UkRGPjwveDp4bXBtZXRhPg0KICAgICAgICAgICAgICAgICAgICAgICAgICAgICAgICAgICAgICAgICAgICAgICAgICAgICAgICAgICAgICAgICAgICAgICAgICAgICAgICAgICAgICAgICAgICAgICAgICAgIAogICAgICAgICAgICAgICAgICAgICAgICAgICAgICAgICAgICAgICAgICAgICAgICAgICAgICAgICAgICAgICAgICAgICAgICAgICAgICAgICAgICAgICAgICAgICAgICAgICAgCiAgICAgICAgICAgICAgICAgICAgICAgICAgICAgICAgICAgICAgICAgICAgICAgICAgICAgICAgICAgICAgICAgICAgICAgICAgICAgICAgICAgICAgICAgICAgICAgICAgICAKICAgICAgICAgICAgICAgICAgICAgICAgICAgICAgICAgICAgICAgICAgICAgICAgICAgICAgICAgICAgICAgICAgICAgICAgICAgICAgICAgICAgICAgICAgICAgICAgICAgIAogICAgICAgICAgICAgICAgICAgICAgICAgICAgICAgICAgICAgICAgICAgICAgICAgICAgICAgICAgICAgICAgICAgICAgICAgICAgICAgICAgICAgICAgICAgICAgICAgICAgCiAgICAgICAgICAgICAgICAgICAgICAgICAgICAgICAgICAgICAgICAgICAgICAgICAgICAgICAgICAgICAgICAgICAgICAgICAgICAgICAgICAgICAgICAgICAgICAgICAgICAKICAgICAgICAgICAgICAgICAgICAgICAgICAgICAgICAgICAgICAgICAgICAgICAgICAgICAgICAgICAgICAgICAgICAgICAgICAgICAgICAgICAgICAgICAgICAgICAgICAgIAogICAgICAgICAgICAgICAgICAgICAgICAgICAgICAgICAgICAgICAgICAgICAgICAgICAgICAgICAgICAgICAgICAgICAgICAgICAgICAgICAgICAgICAgICAgICAgICAgICAgCiAgICAgICAgICAgICAgICAgICAgICAgICAgICAgICAgICAgICAgICAgICAgICAgICAgICAgICAgICAgICAgICAgICAgICAgICAgICAgICAgICAgICAgICAgICAgICAgICAgICAKICAgICAgICAgICAgICAgICAgICAgICAgICAgICAgICAgICAgICAgICAgICAgICAgICAgICAgICAgICAgICAgICAgICAgICAgICAgICAgICAgICAgICAgICAgICAgICAgICAgIAogICAgICAgICAgICAgICAgICAgICAgICAgICAgICAgICAgICAgICAgICAgICAgICAgICAgICAgICAgICAgICAgICAgICAgICAgICAgICAgICAgICAgICAgICAgICAgICAgICAgCiAgICAgICAgICAgICAgICAgICAgICAgICAgICAgICAgICAgICAgICAgICAgICAgICAgICAgICAgICAgICAgICAgICAgICAgICAgICAgICAgICAgICAgICAgICAgICAgICAgICAKICAgICAgICAgICAgICAgICAgICAgICAgICAgICAgICAgICAgICAgICAgICAgICAgICAgICAgICAgICAgICAgICAgICAgICAgICAgICAgICAgICAgICAgICAgICAgICAgICAgIAogICAgICAgICAgICAgICAgICAgICAgICAgICAgICAgICAgICAgICAgICAgICAgICAgICAgICAgICAgICAgICAgICAgICAgICAgICAgICAgICAgICAgICAgICAgICAgICAgICAgCiAgICAgICAgICAgICAgICAgICAgICAgICAgICAgICAgICAgICAgICAgICAgICAgICAgICAgICAgICAgICAgICAgICAgICAgICAgICAgICAgICAgICAgICAgICAgICAgICAgICAKICAgICAgICAgICAgICAgICAgICAgICAgICAgICAgICAgICAgICAgICAgICAgICAgICAgICAgICAgICAgICAgICAgICAgICAgICAgICAgICAgICAgICAgICAgICAgICAgICAgIAogICAgICAgICAgICAgICAgICAgICAgICAgICAgICAgICAgICAgICAgICAgICAgICAgICAgICAgICAgICAgICAgICAgICAgICAgICAgICAgICAgICAgICAgICAgICAgICAgICAgCiAgICAgICAgICAgICAgICAgICAgICAgICAgICAgICAgICAgICAgICAgICAgICAgICAgICAgICAgICAgICAgICAgICAgICAgICAgICAgICAgICAgICAgICAgICAgICAgICAgICAKICAgICAgICAgICAgICAgICAgICAgICAgICAgICAgICAgICAgICAgICAgICAgICAgICAgICAgICAgICAgICAgICAgICAgICAgICAgICAgICAgICAgICAgICAgICAgICAgICAgIAogICAgICAgICAgICAgICAgICAgICAgICAgICAgICAgICAgICAgICAgICAgICAgICAgICAgICAgICAgICAgICAgICAgICAgICAgICAgICAgICAgICAgICAgICAgICAgICAgICAgCiAgICAgICAgICAgICAgICAgICAgICAgICAgICA8P3hwYWNrZXQgZW5kPSd3Jz8+/9sAQwAHBQUGBQQHBgUGCAcHCAoRCwoJCQoVDxAMERgVGhkYFRgXGx4nIRsdJR0XGCIuIiUoKSssKxogLzMvKjInKisq/9sAQwEHCAgKCQoUCwsUKhwYHCoqKioqKioqKioqKioqKioqKioqKioqKioqKioqKioqKioqKioqKioqKioqKioqKioq/8AAEQgAjAESAwEiAAIRAQMRAf/EAB8AAAEFAQEBAQEBAAAAAAAAAAABAgMEBQYHCAkKC//EALUQAAIBAwMCBAMFBQQEAAABfQECAwAEEQUSITFBBhNRYQcicRQygZGhCCNCscEVUtHwJDNicoIJChYXGBkaJSYnKCkqNDU2Nzg5OkNERUZHSElKU1RVVldYWVpjZGVmZ2hpanN0dXZ3eHl6g4SFhoeIiYqSk5SVlpeYmZqio6Slpqeoqaqys7S1tre4ubrCw8TFxsfIycrS09TV1tfY2drh4uPk5ebn6Onq8fLz9PX29/j5+v/EAB8BAAMBAQEBAQEBAQEAAAAAAAABAgMEBQYHCAkKC//EALURAAIBAgQEAwQHBQQEAAECdwABAgMRBAUhMQYSQVEHYXETIjKBCBRCkaGxwQkjM1LwFWJy0QoWJDThJfEXGBkaJicoKSo1Njc4OTpDREVGR0hJSlNUVVZXWFlaY2RlZmdoaWpzdHV2d3h5eoKDhIWGh4iJipKTlJWWl5iZmqKjpKWmp6ipqrKztLW2t7i5usLDxMXGx8jJytLT1NXW19jZ2uLj5OXm5+jp6vLz9PX29/j5+v/aAAwDAQACEQMRAD8A+jqKKKACiiigAooooAKKKKACiiigAooooAKKKKACiiigAooooAKKKKACiiigAooooAKKKKACiiigAooooAKKKKACiiigAooooAKKKKACiiigAooooAKKKKACiiigAooooAKKKxvE95eW2n20WlzLBeXd5DBHI0e8KC2WJXv8it6fUdaANmisT7L4p/6DOj/+CmX/AOSaPsvin/oMaR/4KZf/AJJoA26KxPsvin/oM6P/AOCmX/5Jo+y+Kf8AoM6P/wCCmX/5JoA26KxPsvin/oMaR/4KZf8A5Jo+y+Kf+gzo/wD4KZf/AJJoA26KxPsvin/oM6P/AOCmX/5Jo+y+Kf8AoM6P/wCCmX/5JoA26KxPsvin/oM6P/4KZf8A5Jqa0t/ECXSNfanps1uPvxw6dJG547MZ2A/I0AatFFFABRRRQAUUUUAFFFFABRRRQAUUUUAFFFFABRRRQAUUUUAFFFFABRRRQAUUUUAFYGq/6V4y0O16iBZ71vbaojX/ANGn8q36wLH/AErx5qs/VbS1gtV9mYtI36GOjr/X9bh0N+iivL/Hn9n3OmyDTtQjvtbvNXis4LiNwZLFtwOxCDlMBTnGMknNHW39b2Dpc77xELlvDGqCw837UbSUQ+SSH37Dt245znGMVg+Fmg03Vl0u/vNck1OW1E0a6tcrJvjBwdoQlcg9cjd+FJZ+CtFCeIdMtr24ZdQRI7mBWAWD5OCMAfMQcknJPGffQ03ww8GuxatqV3Fc3Fta/ZLZYIDEkUeck4LsSxwBnPTtQt/68weq/ryOhqlf6pDp01jHOsjG9uBbx7ADhirNk89MKamvHuktXbT4YZ7gY2xzzGJDzzlgrEcexrjvElz4jN9oHn6VpaEampjCanI25vKl4OYBgYzzz245yDqvVD6P0f5HcVg+L7jWYNFjTwzsXUZ7mKKN5U3Io3ZYtwcLtBBPXnjmrdjPrklyF1LTtPt4MHL29+8rZ7fKYVH61pEgAk8AdaTEcBHq/wAQ4fEmn6ZfR+GnFwd8wtVnZooVPzOckAeg9Sfrj0CuK+HF8dettX8Qy8yX1+6Rk/wwxgLGv8z9Sa7Wq6IOrCiiikAUUUUAFFFFABRRRQAUUUUAFFFFABRRRQAUUUUAFFFFABRRRQAUUUUAFFFZmo69Z6Xqmmafcv8A6RqUrRQqP9lSxJ9uAPqwoAzfEuuato15bG2gtHtJpoYVMpYM7O+GBbhUwuCCc5PGKm8J/v4dU1D/AJ/NSmYH1VD5S/pHUPijw/YXdpfahqN1efZkhWWe1WUeVIISXGQQSvI52kZxV7wraNY+EtLt5f8AWLbIZPdyMt+pNEdn/W//AAwS3X9bf8Oa9c8/gTw5JcSztp2JZZjOWWeRSkhIJdMN+7YkDJXBOKu3lxr6Xbrp+m6bPbjGySfUZInPHOVEDAc57n+lQfavFP8A0BtH/wDBtL/8jUAaNhp1rpluYbKLYrMXcsxdnY9WZmJLH3JJq1WJ9q8U/wDQG0f/AMG0v/yNR9q8U/8AQG0f/wAG0v8A8jUAbdZ2qaV/aVxpsvneV9huxc42534R129ePv5z7VV+1eKf+gNo/wD4Npf/AJGo+1eKf+gNo/8A4Npf/kagDbprKHQqwyrDBHqKxvtXin/oDaP/AODaX/5Go+1eKf8AoDaP/wCDaX/5GoAs6FoGneGtLXTtHgMFsrM4QuW5JyeSSa0qxPtXin/oDaP/AODaX/5Gq7p0uqS+Z/a1nZ2uMeX9mu2n3dc53Rpjt6556Y5AL1FFFABRRRQAUUUUAFFFFABRRRQAUUUUAFFFFABRRRQAUUUUAFFFFABRRRQAV5f8T7A6Zr2heKmnd2g1OCEJ0WKLkke5JBJPuB2r1CuL+Ldib34Z6ntGXtwk6+21xn9M0m+W0uzQ0ua8e5q+NW3+FprRfvX0sVmMdxJIqH9Ca3gAAAOAOlcgL7+2/wDhDcHIuB9vkHskP/xci12FU1a6ff8Ar9SU7pPy/r9DL8TalNo3hfUtStVRprW2eVBICVJAyM4I4rSQ7kUnuM1g+PP+Sf65/wBeMv8A6Ca0rzU4NMtYpLmO6dXwoFtaSznp3EasQPc0ug+3z/QvU2SRIo2klZURAWZmOAAOpJrG/wCEs07/AJ9tY/8ABLef/GqwfiRqxufhRrFzpy3MYKrE3n20kD7S6hvldQcYJ5xSk2lccVdpGiPH2lmayLQXaWV/OLe1vnVFimc8DapbzCM/xbMe+Oa011OY+Ln0vankLYrcBsHduMhXGc4xgelcPf3194Q8NeFtSvbhL23aW3glsnt4/LgDJw0RC7gygd2Oa6xP+SlS/wDYJT/0c1U1aVvNr8Cb3jfyT/E6Gis7XdZg8P6Jc6pdxTzQ26hmS3Te55xwOPWrVndJfWMF1EkiJPGsirIu1gCM4I7H2pDJ6K4jS9Z12b4jHTLq4U28dk1zeW4RNlsWfESqwG4ttGTkkHnAFX/Auu3viTTb/U7tlNtJfypZBVxiFSFGfUkg0LX+vOwPT+vK51FFFFABRRRQAUUUUAFFFFABRRRQAUUUUAFFFFABRRRQAUVmeJNYXQPDWoaqyh/skDSKpPDNjgficCsnwV/wlMtu954nvLaeC6himto4o9rxFly6nCjgE4H3j70LW4PQ6miiigAooooAKz9esf7T8O6jYkZ+02skQ+pUitCilJXTQ07O55Z8IL46xb2btydI037If9lnmY4/75iT869TrjPhx4ak8N2espNE0RuNUmeMMMZiBwh+h5P412dW3ez/AK11/UlKza/rTQ5/x5/yT/XP+vGX/wBBNb0f+qT/AHRUV5Z2+oWM1neRCW3nQxyRnoyngipgMDA6VI+wtVdT0621fS7nT7+PzLe5jMci5xkH+tWqKTV1ZgtNTkB4Hmuo9Ls9b1UX2m6VIsltAtt5buyDCGV9xDYHoq571eT/AJKVL/2CU/8ARzV0NQCztxfm9EQ+0mIRGTvsBzj8zTu7p+v4qwdLen53J6KKKAPJtX1NUi8T+IfDV3cW1xqEy6Z9nubPe9zPH8gMBD9OTnIPQ8CvQPCOjf8ACPeEdN0tgA9vAokx/fPLf+PE1dj0fTYdQa/i060S8fO64WBRI2euWxmrlC0VvT8Aerv/AF/WgUUUUAFFFFABRRRQAUUUUAFFFFABRRRQAUUUUAFFFFAHn/xesrS98O2NtJawyXl7fw2kEzRgyRhmy21iMjIXnFdrp2lafpFsYNKsbeyiJ3MlvEsYY4xkgAZPA5riP+J14u8caeNR0SbTbDQ7yaYySkkXBACxFSQAcnJ4yAO9ehUR+H1/4AP4vT/g/wDAMTxFP5H2f/iY6xZZ3f8AIM0/7Tv6fe/cybfbpnnr2xPt/wD1Mfi//wAEH/3HXbUUAZHh+bzrWU/btUvcPjdqVl9mZeOgHlR5Hvg/WtC8S6e0ddPmhguDjZJPCZUHPOVDKTxnuP6VPRQBifZfFP8A0GdH/wDBTL/8k0fZfFP/AEGdH/8ABTL/APJNcm+r/EOCwvtUD+H49MWaaSI6ksqyxxByFBCADoBjqTkV2Phi41i88PW1z4kht7e/mXe8NurKsYPQEMSc46+9C1VwejIvsvin/oM6P/4KZf8A5Jo+y+Kf+gzo/wD4KZf/AJJrbooAxPsvin/oM6P/AOCmX/5Jo+y+Kf8AoM6P/wCCmX/5JrbooAxPsvin/oM6P/4KZf8A5Jo+y+Kf+gzo/wD4KZf/AJJrbooAxPsvin/oM6P/AOCmX/5Jo+y+Kf8AoM6P/wCCmX/5JrbooAxPsvin/oM6P/4KZf8A5Jo+y+Kf+gzo/wD4KZf/AJJrbqC8hluLOSKC5ktJGHyzRKpZD6gMCPzFJuyuBl/ZfFP/AEGdH/8ABTL/APJNH2XxT/0GdH/8FMv/AMk1Q+G+sX+veB7W/wBXuPtF08kqvJsVMhZGA4UAdBXVVTVmBifZfFP/AEGdH/8ABTL/APJNbdFFIAooooAKKKKACiiigAooooAKKKKACiiigAooooAKKKKACiiigAooooA4nxPf/bviJ4b8NnmBi+oXK/3/ACwfLB9twz+ArtqzJfD2mzeJYdekt86jBCYEl3nhDnjGcdzz71p0La39f1awPe/9f1e5l3lxr6XTrYabps9uMbJJ9Rkic8c5UQMBz7moPtXinvo+kf8Ag2l/+Rq26KAEHTnrXA+INAsPEXiWY2UtwdQtmXz9TN3Ii6au0fJEFYAuRzg5Azls8Ke/rnLr4f8Aha9W3F3o0Ept2LIzFtzEnJ3tnL5PJ3ZzR1uHQ09DisItEtho7eZZlN0cm4sZMnJck8kkknPfOa4M6Hps3x4uLd7OIW76P9olgVQI5pDLgs69G9ec8gHqK9KRFjjVI1VEUAKqjAAHYCsU+D9HOtPq/l3Yv3BUzi/nDbSc7fv/AHc/w9B6U/tX9fyD7NjgvDWi2F5p/jeG8t1uLexvbmGzglO6O1UAn92p4Q57jB4FRya3qn/CpPCIFzMF1C7htby5DkOIt7DG7qMgAZ/xrvLfwNoVrHdpbw3ka3uTchdSuB5xJyS37zknHJ6kZHQmrFn4T0Wx0aTSIbMvp8nBtZ5nmQDrhQ7Hbzzxjnmktvu/Df7werv6/j/kcv4kij8LeLvC3/CM2sdob+7a3ure2UIs8WBlmUcErnO7qKh8D2tv4nsNb1bxFbx3eojUJoQZxua0VANqR5+5jrkYOea7Kw8NaXpt4Lu3gke5VPLSa5uJJ3jX+6pkZio9himXPhXR7q8nuZLZ1kuQBcCK4kjSfjH7xFYK/HHzA8UmtGvX9P8AL8Q/4H6/5/gc98Hf+SZWH/XWb/0Y1M+K0IPhlpGPnPNiztbZxlPOlYASH/aVQ2PQnNdPoPhrS/DNs9vosMtvAxz5TXMkiKefuq7EL15xjPesjxsbmabTLKTSlv8AR55WN/IIZZZIdoBQoIvmDE5w2OMdqqdpNBG6u/UzL1JpPiF4U8Ox3MskelWbXt0xckyEL5aFvU5yfxrv64nwP4bntNb1jxDfW81tJqDLHbQXMzSyxwr0LsxJ3NwcEnGAK7ajprvv9/8AVhW109P6+dwooopDCiiigAooooAKKKKACiiigAooooAKKKKACiiigAooooAKKKKACiiigAooooAKKKKACiiigAooooAKKKKACiiigAooooAKKKKACiiigAooooAKKKKACiiigD//2Q==)\n",
        "\n",
        "Округлите результат до 3-х знаков после запятой, используя функцию round()."
      ],
      "metadata": {
        "id": "k1w5RdXZ8Zoj"
      }
    },
    {
      "cell_type": "code",
      "source": [
        "x = int(input(\"x=\")) # Удалите комментарий и допишите код\n",
        "y = int(input(\"y=\")) # Удалите комментарий и допишите код\n",
        "z = int(input(\"z=\"))# Удалите комментарий и допишите код\n",
        "\n",
        "res1 =((x**5+7)/(abs(-6)*y))**(1/3)\n",
        "res2 =7 - (z%y)\n",
        "res = res1/res2\n",
        "print(round(res,2))\n",
        "# Удалите комментарий и допишите код\n",
        "\n",
        "# Удалите комментарий и допишите код\n",
        "\n",
        "2\n",
        "# --------------\n",
        "# Пример вывода:\n",
        "#\n",
        "# x=0\n",
        "# y=1\n",
        "# z=2\n",
        "# 0.15\n",
        "\n"
      ],
      "metadata": {
        "colab": {
          "base_uri": "https://localhost:8080/"
        },
        "id": "a2Cph_4a8q1j",
        "outputId": "7de5ccf9-543b-422e-a4f0-1d75fea7b28e"
      },
      "execution_count": null,
      "outputs": [
        {
          "output_type": "stream",
          "name": "stdout",
          "text": [
            "x=0\n",
            "y=1\n",
            "z=2\n",
            "0.15\n"
          ]
        },
        {
          "output_type": "execute_result",
          "data": {
            "text/plain": [
              "2"
            ]
          },
          "metadata": {},
          "execution_count": 7
        }
      ]
    },
    {
      "cell_type": "markdown",
      "source": [
        "# № 3.2.3\n",
        "\n",
        "Дана электрическая цепь, состоящая из 2-х последовательно соединенных проводников (сопротивление каждого известно). Найти общее сопротивление цепи (округление результата необходимо выполнить до 1-го знака после запятой).\n",
        "\n",
        "Решение (начало и общий ход мыслей):\n",
        "\n",
        "Аналитическое решение.\n",
        "\n",
        "Проводники соединены последовательно, поэтому общее сопротивление цепи будет равно сумме их сопротивлений. Сопротивление может быть вещественным числом, поэтому для его хранения необходимо выбрать тип float.\n",
        "\n",
        "Алгоритм.\n",
        "\n",
        "- ввести 2 вещественных значения - сопротивления проводников;\n",
        "- вычислить их сумму;\n",
        "- вывести ответ на экран.\n",
        "Программа.\n",
        "\n"
      ],
      "metadata": {
        "id": "cTlFCQTMC7M3"
      }
    },
    {
      "cell_type": "code",
      "source": [
        "# Программирование на языке высокого уровня (Python).\n",
        "# https://www.yuripetrov.ru/edu/python\n",
        "# Задание task_03_02_03.\n",
        "#\n",
        "# Выполнил: Фамилия И.О.\n",
        "# Группа: !!!\n",
        "# E-mail: !!!\n",
        "\n",
        "\n",
        "# Сопротивление первого проводника\n",
        "r1 = float(input(\"r1=\")) # Удалите комментарий и допишите код\n",
        "# Сопротивление второго проводника\n",
        "r2 = float(input(\"r2=\")) # Удалите комментарий и допишите код\n",
        "\n",
        "# Общее сопротивление\n",
        "r =round(r1 + r2, 1)# Удалите комментарий и допишите код\n",
        "\n",
        "# Удалите комментарий и допишите код\n",
        "print(r)\n",
        "\n",
        "# --------------\n",
        "# Пример вывода:\n",
        "#\n",
        "# r1=12.2\n",
        "# r2=16.1\n",
        "# 28.3\n",
        "\n"
      ],
      "metadata": {
        "colab": {
          "base_uri": "https://localhost:8080/"
        },
        "id": "jc30DT1jC7_L",
        "outputId": "e90cb6af-653a-4bad-9e71-65367a191d75"
      },
      "execution_count": null,
      "outputs": [
        {
          "output_type": "stream",
          "name": "stdout",
          "text": [
            "r1=12.2\n",
            "r2=16.1\n",
            "28.3\n"
          ]
        }
      ]
    },
    {
      "cell_type": "markdown",
      "source": [
        "# № 3.2.6\n",
        "\n",
        "Дано уравнение ax + b = 0 и отрезок [m;n]. Ответьте на вопрос, попадает ли решение уравнения в указанный отрезок.\n",
        "\n",
        "Решение (начало и общий ход мыслей):\n",
        "\n",
        "Аналитическое решение.\n",
        "\n",
        "Коэффициенты уравнения и величина отрезка - произвольны, возьмем целые числа. Решение x при этом может быть дробным. После определения x составим логическое выражение попадания в отрезок, что и будет ответом.\n",
        "\n",
        "Алгоритм.\n",
        "\n",
        "- ввести все неизвестные величины;\n",
        "- определить корень уравнения;\n",
        "- составить логическое выражение попадания корня в область;\n",
        "- вывести результат попадания на экран.\n",
        "Программа.\n",
        "\n",
       
      ],
      "metadata": {
        "id": "tufWjF7FFoR9"
      }
    },
    {
      "cell_type": "code",
      "source": [
        "# Программирование на языке высокого уровня (Python).\n",
        "# https://www.yuripetrov.ru/edu/python\n",
        "# Задание task_03_02_06.\n",
        "#\n",
        "# Выполнил: Фамилия И.О.\n",
        "# Группа: !!!\n",
        "# E-mail: !!!\n",
        "\n",
        "\n",
        "a = int (input(\"a=\"))# Удалите комментарий и допишите код\n",
        "b = int (input(\"b=\"))# Удалите комментарий и допишите код\n",
        "m = int (input(\"m=\"))# Удалите комментарий и допишите код\n",
        "n = int (input(\"n=\"))# Удалите комментарий и допишите код\n",
        "\n",
        "x = (0-b)/a# Удалите комментарий и допишите код\n",
        "\n",
        "is_ok = bool((x>=m) and (x<=n))# Удалите комментарий и допишите код, is_ok - типа bool\n",
        "\n",
        "print(\"Попадает:\", is_ok)\n",
        "\n",
        "\n",
        "# --------------\n",
        "# Пример вывода:\n",
        "#\n",
        "# Введите a = 1\n",
        "# Введите b = 2\n",
        "# Введите m = -5\n",
        "# Введите n = 5\n",
        "# Попадает: True\n",
        "\n"
      ],
      "metadata": {
        "colab": {
          "base_uri": "https://localhost:8080/"
        },
        "id": "CRH1UhoPF2kB",
        "outputId": "32a872aa-f96c-4f3b-fb50-6fc445362198"
      },
      "execution_count": null,
      "outputs": [
        {
          "output_type": "stream",
          "name": "stdout",
          "text": [
            "a=1\n",
            "b=2\n",
            "m=-5\n",
            "n=5\n",
            "Попадает: True\n"
          ]
        }
      ]
    },
    {
      "cell_type": "markdown",
      "source": [
        "# 3.2.2. Строки\n",
        "\n",
        "№ 3.2.7\n",
        "\n",
        "Составьте программу, которая запрашивает название футбольной команды и повторяет его на экране со словами\n",
        "\n",
        "... - чемпион!\n",
        "После этого выполните:\n",
        "\n",
        "используя операцию дублирования, нарисуйте черту (набор \"-\"), длиной, равной размеру названия команды;\n",
        "\n",
        "преобразуйте строку в нижний регистр и выведите на экран:\n",
        "\n",
        "длину наименования команды;\n",
        "\n",
        "есть ли в наименовании команды буква \"п\" (True/False)?\n",
        "\n",
        "сколько раз повторяется буква \"а\"?"
      ],
      "metadata": {
        "id": "IZs9fpMoG2m9"
      }
    },
    {
      "cell_type": "code",
      "source": [
        "# Программирование на языке высокого уровня (Python).\n",
        "# https://www.yuripetrov.ru/edu/python\n",
        "# Задание task_03_02_07.\n",
        "#\n",
        "# Выполнил: Ильина А. с.\n",
        "# Группа: АДЭУ-221\n",
        "# E-mail: \n",
        "\n",
        "\n",
        "team = input(\"Введите название команды: \")\n",
        "\n",
        "print((team)+\"-чемпион!\")# Удалите комментарий и допишите код)\n",
        "\n",
        "print(\"-\"*len(team))# Удалите комментарий и допишите код)\n",
        "\n",
        "# Название команды в нижнем регистре\n",
        "team_lowercase = print(team.lower()) # Удалите комментарий и допишите код\n",
        "print(\"Символов в названии команды:\",len(team))# Удалите комментарий и допишите код)\n",
        "print(\"Буква n есть:\", bool(\"n\" in \"Спартак\"))# Удалите комментарий и допишите код)\n",
        "print(\"Количество букв a:\", team.find(\"a\"))# Удалите комментарий и допишите код)\n",
        "\n",
        "\n",
        "# --------------\n",
        "# Пример вывода:\n",
        "#\n",
        "# Введите название команды: Спартак\n",
        "# Спартак - чемпион!\n",
        "# -------\n",
        "# Символов в названии команды: 7\n",
        "# Буква \"п\" есть: True\n",
        "# Количество букв \"а\": 2\n",
        "\n"
      ],
      "metadata": {
        "colab": {
          "base_uri": "https://localhost:8080/"
        },
        "id": "h7urPx7KG5TI",
        "outputId": "e2b4ca2e-d271-4365-d700-01404865eddc"
      },
      "execution_count": null,
      "outputs": [
        {
          "output_type": "stream",
          "name": "stdout",
          "text": [
            "Введите название команды: Спартак\n",
            "Спартак-чемпион!\n",
            "-------\n",
            "спартак\n",
            "Символов в названии команды: 7\n",
            "Буква n есть: False\n",
            "Количество букв a: -1\n"
          ]
        }
      ]
    },
    {
      "cell_type": "markdown",
      "source": [
        "# № 3.2.8\n",
        "\n",
        "Составьте программу, которая запрашивает название государства и его столицы, а затем выводит сообщение:\n",
        "\n",
        "Государство - ..., столица - ...\n",
        "На месте многоточий должны быть выведены соответствующие значения."
      ],
      "metadata": {
        "id": "cr2FlimWJJGI"
      }
    },
    {
      "cell_type": "code",
      "source": [
        "# Программирование на языке высокого уровня (Python).\n",
        "# https://www.yuripetrov.ru/edu/python\n",
        "# Задание task_03_02_08.\n",
        "#\n",
        "# Выполнил: Фамилия И.О.\n",
        "# Группа: !!!\n",
        "# E-mail: !!!\n",
        "\n",
        "\n",
        "# Название государства\n",
        "country = input() # Удалите комментарий и допишите код\n",
        "# Название столицы\n",
        "capital = input()# Удалите комментарий и допишите код\n",
        "\n",
        "c1='Государство - '\n",
        "c2=\"Столица - \"\n",
        "c3=\"{}{}, {}{}\".format(c1,country,c2,capital)\n",
        "print(c3) # Удалите комментарий и допишите код (используйте format() для вывода))\n",
        "\n",
        "\n",
        "# --------------\n",
        "# Пример вывода:\n",
        "#\n",
        "# Введите название государства: Россия\n",
        "# Введите название столицы: Москва\n",
        "# Государство - Россия, столица - Москва\n",
        "\n"
      ],
      "metadata": {
        "colab": {
          "base_uri": "https://localhost:8080/"
        },
        "id": "ggHykaCqJMXD",
        "outputId": "8ddb2953-81e8-4ff9-aa39-bea0034e0f41"
      },
      "execution_count": null,
      "outputs": [
        {
          "output_type": "stream",
          "name": "stdout",
          "text": [
            "Россия\n",
            "Москва\n",
            "Государство - Россия, Столица - Москва\n"
          ]
        }
      ]
    }
  ]
}
